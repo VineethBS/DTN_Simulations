{
 "cells": [
  {
   "cell_type": "code",
   "execution_count": 1,
   "metadata": {},
   "outputs": [],
   "source": [
    "import pandas as pd"
   ]
  },
  {
   "cell_type": "code",
   "execution_count": 2,
   "metadata": {},
   "outputs": [],
   "source": [
    "trace = pd.read_csv('tempTrace.csv', header = None)"
   ]
  },
  {
   "cell_type": "code",
   "execution_count": 3,
   "metadata": {},
   "outputs": [
    {
     "data": {
      "text/html": [
       "<div>\n",
       "<table border=\"1\" class=\"dataframe\">\n",
       "  <thead>\n",
       "    <tr style=\"text-align: right;\">\n",
       "      <th></th>\n",
       "      <th>0</th>\n",
       "      <th>1</th>\n",
       "      <th>2</th>\n",
       "      <th>3</th>\n",
       "    </tr>\n",
       "  </thead>\n",
       "  <tbody>\n",
       "    <tr>\n",
       "      <th>0</th>\n",
       "      <td>Packet</td>\n",
       "      <td>PktArrival</td>\n",
       "      <td>1.392993</td>\n",
       "      <td>1</td>\n",
       "    </tr>\n",
       "    <tr>\n",
       "      <th>1</th>\n",
       "      <td>Packet</td>\n",
       "      <td>SRPktFirstCopy</td>\n",
       "      <td>1.400526</td>\n",
       "      <td>1</td>\n",
       "    </tr>\n",
       "    <tr>\n",
       "      <th>2</th>\n",
       "      <td>Packet</td>\n",
       "      <td>SRPktCopy</td>\n",
       "      <td>1.400526</td>\n",
       "      <td>1</td>\n",
       "    </tr>\n",
       "    <tr>\n",
       "      <th>3</th>\n",
       "      <td>Packet</td>\n",
       "      <td>SRPktCopy</td>\n",
       "      <td>1.739427</td>\n",
       "      <td>1</td>\n",
       "    </tr>\n",
       "    <tr>\n",
       "      <th>4</th>\n",
       "      <td>Packet</td>\n",
       "      <td>SRPktCopy</td>\n",
       "      <td>1.774457</td>\n",
       "      <td>1</td>\n",
       "    </tr>\n",
       "  </tbody>\n",
       "</table>\n",
       "</div>"
      ],
      "text/plain": [
       "        0               1         2  3\n",
       "0  Packet      PktArrival  1.392993  1\n",
       "1  Packet  SRPktFirstCopy  1.400526  1\n",
       "2  Packet       SRPktCopy  1.400526  1\n",
       "3  Packet       SRPktCopy  1.739427  1\n",
       "4  Packet       SRPktCopy  1.774457  1"
      ]
     },
     "execution_count": 3,
     "metadata": {},
     "output_type": "execute_result"
    }
   ],
   "source": [
    "trace.head()"
   ]
  },
  {
   "cell_type": "code",
   "execution_count": 4,
   "metadata": {},
   "outputs": [],
   "source": [
    "packet_arrivals = trace[(trace[0] == \"Packet\") & (trace[1] == \"PktArrival\")]\n",
    "packet_arrivals = packet_arrivals[[2,3]]\n",
    "packet_arrivals = packet_arrivals.groupby([3]).max()\n",
    "packet_arrivals.columns = [\"ArrivalTimes\"]\n",
    "packet_firstcopy = trace[(trace[0] == \"Packet\") & (trace[1] == \"SRPktFirstCopy\")]\n",
    "packet_firstcopy = packet_firstcopy[[2, 3]]\n",
    "packet_firstcopy = packet_firstcopy.groupby([3]).max()\n",
    "packet_firstcopy.columns = [\"FirstCopyTimes\"]\n",
    "packet_lastcopy = trace[(trace[0] == \"Packet\") & (trace[1] == \"SRPktLastCopy\")]\n",
    "packet_lastcopy = packet_lastcopy[[2, 3]]\n",
    "packet_lastcopy = packet_lastcopy.groupby([3]).max()\n",
    "packet_lastcopy.columns = [\"LastCopyTimes\"]\n",
    "packet_delivery = trace[(trace[0] == \"Packet\") & (trace[1] == \"RDPktCopy\")]\n",
    "packet_delivery = packet_delivery[[2, 3]]\n",
    "packet_delivery = packet_delivery.groupby([3]).min()\n",
    "packet_delivery.columns = [\"DeliveryTimes\"]\n",
    "packet = packet_arrivals.join([packet_firstcopy, packet_lastcopy, packet_delivery], how = \"inner\")                        "
   ]
  },
  {
   "cell_type": "code",
   "execution_count": 6,
   "metadata": {},
   "outputs": [
    {
     "data": {
      "text/plain": [
       "(169758, 1)"
      ]
     },
     "execution_count": 6,
     "metadata": {},
     "output_type": "execute_result"
    }
   ],
   "source": [
    "packet_firstcopy.shape"
   ]
  },
  {
   "cell_type": "code",
   "execution_count": 7,
   "metadata": {},
   "outputs": [
    {
     "data": {
      "text/plain": [
       "(169755, 4)"
      ]
     },
     "execution_count": 7,
     "metadata": {},
     "output_type": "execute_result"
    }
   ],
   "source": [
    "packet.shape"
   ]
  },
  {
   "cell_type": "code",
   "execution_count": 8,
   "metadata": {},
   "outputs": [
    {
     "data": {
      "text/html": [
       "<div>\n",
       "<table border=\"1\" class=\"dataframe\">\n",
       "  <thead>\n",
       "    <tr style=\"text-align: right;\">\n",
       "      <th></th>\n",
       "      <th>ArrivalTimes</th>\n",
       "      <th>FirstCopyTimes</th>\n",
       "      <th>LastCopyTimes</th>\n",
       "      <th>DeliveryTimes</th>\n",
       "    </tr>\n",
       "    <tr>\n",
       "      <th>3</th>\n",
       "      <th></th>\n",
       "      <th></th>\n",
       "      <th></th>\n",
       "      <th></th>\n",
       "    </tr>\n",
       "  </thead>\n",
       "  <tbody>\n",
       "    <tr>\n",
       "      <th>1</th>\n",
       "      <td>1.392993</td>\n",
       "      <td>1.400526</td>\n",
       "      <td>3.152745</td>\n",
       "      <td>2.648313</td>\n",
       "    </tr>\n",
       "    <tr>\n",
       "      <th>2</th>\n",
       "      <td>2.079970</td>\n",
       "      <td>2.919083</td>\n",
       "      <td>3.875463</td>\n",
       "      <td>8.298465</td>\n",
       "    </tr>\n",
       "    <tr>\n",
       "      <th>3</th>\n",
       "      <td>2.126726</td>\n",
       "      <td>4.080726</td>\n",
       "      <td>5.043323</td>\n",
       "      <td>5.717359</td>\n",
       "    </tr>\n",
       "    <tr>\n",
       "      <th>4</th>\n",
       "      <td>2.344262</td>\n",
       "      <td>5.351928</td>\n",
       "      <td>5.960767</td>\n",
       "      <td>5.391192</td>\n",
       "    </tr>\n",
       "    <tr>\n",
       "      <th>5</th>\n",
       "      <td>2.812377</td>\n",
       "      <td>6.943710</td>\n",
       "      <td>7.760130</td>\n",
       "      <td>11.009160</td>\n",
       "    </tr>\n",
       "  </tbody>\n",
       "</table>\n",
       "</div>"
      ],
      "text/plain": [
       "   ArrivalTimes  FirstCopyTimes  LastCopyTimes  DeliveryTimes\n",
       "3                                                            \n",
       "1      1.392993        1.400526       3.152745       2.648313\n",
       "2      2.079970        2.919083       3.875463       8.298465\n",
       "3      2.126726        4.080726       5.043323       5.717359\n",
       "4      2.344262        5.351928       5.960767       5.391192\n",
       "5      2.812377        6.943710       7.760130      11.009160"
      ]
     },
     "execution_count": 8,
     "metadata": {},
     "output_type": "execute_result"
    }
   ],
   "source": [
    "packet.head()"
   ]
  },
  {
   "cell_type": "code",
   "execution_count": 9,
   "metadata": {},
   "outputs": [
    {
     "data": {
      "text/plain": [
       "3.2261754921563144"
      ]
     },
     "execution_count": 9,
     "metadata": {},
     "output_type": "execute_result"
    }
   ],
   "source": [
    "(packet[\"DeliveryTimes\"] - packet[\"FirstCopyTimes\"]).mean()"
   ]
  },
  {
   "cell_type": "code",
   "execution_count": null,
   "metadata": {},
   "outputs": [],
   "source": []
  }
 ],
 "metadata": {
  "kernelspec": {
   "display_name": "Python 3",
   "language": "python",
   "name": "python3"
  },
  "language_info": {
   "codemirror_mode": {
    "name": "ipython",
    "version": 2
   },
   "file_extension": ".py",
   "mimetype": "text/x-python",
   "name": "python",
   "nbconvert_exporter": "python",
   "pygments_lexer": "ipython2",
   "version": "2.7.9"
  }
 },
 "nbformat": 4,
 "nbformat_minor": 2
}
