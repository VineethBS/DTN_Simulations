{
 "cells": [
  {
   "cell_type": "code",
   "execution_count": 1,
   "metadata": {},
   "outputs": [],
   "source": [
    "import simpy\n",
    "import numpy"
   ]
  },
  {
   "cell_type": "markdown",
   "metadata": {},
   "source": [
    "Source Class\n",
    "- Models the source node\n",
    "- There is a Poisson arrival process of packets at the source node, with rate arrival_rate\n",
    "- The source is assumed to hold initial_queue_length number of packets at the start of the simulation\n",
    "- The packets flowing from a particular source to a destination are identified by the unique flow_id"
   ]
  },
  {
   "cell_type": "code",
   "execution_count": 4,
   "metadata": {},
   "outputs": [],
   "source": [
    "class Source:\n",
    "    def __init__(self, env, arrival_rate, initial_queue_length, flow_id, number_copies):\n",
    "        self.env = env\n",
    "        self.action = env.process(self.run())\n",
    "        self.arrival_rate = arrival_rate\n",
    "        self.queue = []\n",
    "        self.flow_id = flow_id\n",
    "        self.number_copies = number_copies\n",
    "        self.service_stage = 0\n",
    "        \n",
    "        for i in range(initial_queue_length):\n",
    "            self.queue.insert(0, self.flow_id)\n",
    "            \n",
    "    def serve_packet(self):\n",
    "        if len(self.queue) > 0:\n",
    "            if self.service_stage < self.number_copies:\n",
    "                self.service_stage = self.service_stage + 1\n",
    "                return self.queue[-1]\n",
    "            else:\n",
    "                return self.queue.pop()\n",
    "        else:\n",
    "            return -1\n",
    "        \n",
    "    def run(self):\n",
    "        while True:\n",
    "            next_arrival_epoch = numpy.random.exponential(1.0 / self.arrival_rate)\n",
    "            yield self.env.timeout(next_arrival_epoch)\n",
    "            self.queue.insert(0, self.flow_id)\n",
    "            print('Source,%u,%f,%u' % (self.flow_id, self.env.now, len(self.queue)))"
   ]
  },
  {
   "cell_type": "markdown",
   "metadata": {},
   "source": [
    "Destination class\n",
    "- Models the destination for a flow id\n",
    "- Currently only updates the number of delivered packet copies"
   ]
  },
  {
   "cell_type": "code",
   "execution_count": 5,
   "metadata": {},
   "outputs": [],
   "source": [
    "class Destination:\n",
    "    def __init__(self, flow_id):\n",
    "        self.flow_id = flow_id\n",
    "        self.number_of_delivered_packets = 0\n",
    "        \n",
    "    def deliver_packet(self):\n",
    "        self.number_of_delivered_packets = self.number_of_delivered_packets + 1\n",
    "        "
   ]
  },
  {
   "cell_type": "markdown",
   "metadata": {},
   "source": [
    "Relay class\n",
    "- Models the relay\n",
    "- The relay meets both sources and destinations\n",
    "- Each source or destination meeting process is modelled separately\n",
    "- When the relay meets a source, if the relay's queue length is less than the maximum buffer size of the relay then a packet is served from the source to the relay"
   ]
  },
  {
   "cell_type": "code",
   "execution_count": 6,
   "metadata": {},
   "outputs": [],
   "source": [
    "class Relay:\n",
    "    def __init__(self, env, relay_id, meeting_rate, max_buffersize, list_of_sources, list_of_destinations):\n",
    "        self.env = env\n",
    "        self.relay_id = relay_id\n",
    "        self.meeting_rate = meeting_rate\n",
    "        self.max_buffersize = max_buffersize\n",
    "        self.list_of_sources = list_of_sources\n",
    "        self.list_of_destinatons = list_of_destinations\n",
    "        self.meeting_sources = []\n",
    "        self.meeting_destinations = []\n",
    "        self.queue = []\n",
    "        \n",
    "        for src, dest in zip(list_of_sources, list_of_destinations):\n",
    "            self.meeting_sources.insert(0, env.process(self.meet_source(src)))\n",
    "            self.meeting_destinations.insert(0, env.process(self.meet_destination(dest)))\n",
    "        \n",
    "    def meet_source(self, src):\n",
    "        while True:\n",
    "            next_meeting_time = numpy.random.exponential(1.0 / self.meeting_rate)\n",
    "            yield self.env.timeout(next_meeting_time)\n",
    "            \n",
    "            if len(self.queue) < self.max_buffersize:\n",
    "                packet_id = src.serve_packet()\n",
    "                if not packet_id == -1:\n",
    "                    self.queue.insert(0, packet_id)\n",
    "                    print('Relay-Source,%u,%f,%u,%u' % (self.relay_id, self.env.now, src.flow_id, len(self.queue)))\n",
    "            \n",
    "    def meet_destination(self, dest):\n",
    "        while True:\n",
    "            next_meeting_time = numpy.random.exponential(1.0 / self.meeting_rate)\n",
    "            yield self.env.timeout(next_meeting_time)\n",
    "            \n",
    "            if dest.flow_id in self.queue:\n",
    "                del self.queue[self.queue.index(dest.flow_id)]\n",
    "                dest.deliver_packet()\n",
    "                print('Relay-Destination,%u,%f,%u,%u' % (self.relay_id, self.env.now, dest.flow_id, len(self.queue)))"
   ]
  },
  {
   "cell_type": "markdown",
   "metadata": {},
   "source": [
    "Simulation"
   ]
  },
  {
   "cell_type": "code",
   "execution_count": 18,
   "metadata": {},
   "outputs": [],
   "source": [
    "env = simpy.Environment()"
   ]
  },
  {
   "cell_type": "code",
   "execution_count": 19,
   "metadata": {},
   "outputs": [],
   "source": [
    "src1 = Source(env, 1, 0, 1, 2)\n",
    "src2 = Source(env, 1, 0, 2, 2)\n",
    "dest1 = Destination(1)\n",
    "dest2 = Destination(2)"
   ]
  },
  {
   "cell_type": "code",
   "execution_count": 20,
   "metadata": {},
   "outputs": [],
   "source": [
    "relay1 = Relay(env, 1, 1, 10, [src1, src2], [dest1, dest2])\n",
    "relay2 = Relay(env, 2, 1, 10, [src1, src2], [dest1, dest2])"
   ]
  },
  {
   "cell_type": "code",
   "execution_count": 21,
   "metadata": {},
   "outputs": [
    {
     "name": "stdout",
     "output_type": "stream",
     "text": [
      "Source,1,0.082700,1\n",
      "Source,1,0.457488,2\n",
      "Relay-Source,2,0.462464,1,1\n",
      "Relay-Source,2,0.540813,1,2\n",
      "Relay-Destination,2,0.686683,1,1\n",
      "Relay-Source,2,0.687868,1,2\n",
      "Relay-Destination,2,0.869169,1,1\n",
      "Source,2,0.976884,1\n",
      "Relay-Destination,2,1.098532,1,0\n",
      "Source,1,1.815271,2\n",
      "Relay-Source,2,1.821783,2,1\n",
      "Relay-Source,2,1.900847,2,2\n",
      "Source,1,1.924962,3\n",
      "Relay-Destination,2,2.006073,2,1\n",
      "Relay-Destination,2,2.180154,2,0\n",
      "Relay-Source,1,2.221456,2,1\n",
      "Relay-Source,2,2.269545,1,1\n",
      "Relay-Source,2,2.399661,1,2\n",
      "Relay-Destination,2,2.463558,1,1\n",
      "Source,2,2.575722,1\n",
      "Source,2,2.638385,2\n",
      "Source,1,2.677672,2\n",
      "Relay-Source,1,2.694936,2,2\n",
      "Relay-Destination,2,2.788806,1,0\n",
      "Relay-Source,2,2.977684,1,1\n",
      "Source,2,3.014161,2\n",
      "Relay-Destination,2,3.117528,1,0\n",
      "Source,1,3.135043,2\n",
      "Relay-Source,2,3.937597,1,1\n",
      "Relay-Source,1,3.998240,1,3\n",
      "Relay-Destination,1,4.000913,2,2\n",
      "Relay-Destination,1,4.205451,2,1\n",
      "Relay-Destination,2,4.277080,1,0\n",
      "Relay-Destination,1,4.574326,1,0\n",
      "Source,1,4.789357,1\n",
      "Source,1,5.023155,2\n",
      "Source,2,5.080754,3\n",
      "Source,1,5.281196,3\n",
      "Relay-Source,1,5.318163,2,1\n",
      "Source,1,5.518918,4\n",
      "Relay-Destination,1,5.538708,2,0\n",
      "Relay-Source,1,5.586403,2,1\n",
      "Relay-Source,2,5.884044,1,1\n",
      "Relay-Source,1,5.948356,1,2\n",
      "Relay-Source,1,6.028614,2,3\n",
      "Relay-Source,2,6.040048,1,2\n",
      "Source,1,6.129672,2\n",
      "Relay-Source,1,6.202941,1,4\n",
      "Relay-Destination,1,6.424683,1,3\n",
      "Relay-Destination,1,6.535066,2,2\n",
      "Source,1,6.896272,2\n",
      "Relay-Source,2,6.962895,1,3\n",
      "Relay-Source,1,6.968556,1,3\n",
      "Source,2,7.172568,1\n",
      "Relay-Destination,1,7.186080,1,2\n",
      "Relay-Source,2,7.209127,2,4\n",
      "Source,2,7.274278,1\n",
      "Source,1,7.295947,1\n",
      "Relay-Destination,1,7.376282,2,1\n",
      "Source,2,7.448448,2\n",
      "Relay-Destination,1,7.461404,1,0\n",
      "Relay-Destination,2,7.712972,2,3\n",
      "Relay-Source,2,7.767050,1,4\n",
      "Relay-Destination,2,8.191606,1,3\n",
      "Relay-Source,1,9.258777,2,1\n",
      "Source,2,9.303833,2\n",
      "Relay-Source,2,9.391610,2,4\n",
      "Relay-Source,2,9.467494,2,5\n",
      "Relay-Destination,2,9.568345,2,4\n",
      "Relay-Destination,2,9.665698,1,3\n",
      "Relay-Destination,1,9.712789,2,0\n",
      "Relay-Destination,2,9.741000,1,2\n"
     ]
    }
   ],
   "source": [
    "env.run(until=10)"
   ]
  },
  {
   "cell_type": "code",
   "execution_count": null,
   "metadata": {},
   "outputs": [],
   "source": []
  }
 ],
 "metadata": {
  "kernelspec": {
   "display_name": "Python 3",
   "language": "python",
   "name": "python3"
  },
  "language_info": {
   "codemirror_mode": {
    "name": "ipython",
    "version": 3
   },
   "file_extension": ".py",
   "mimetype": "text/x-python",
   "name": "python",
   "nbconvert_exporter": "python",
   "pygments_lexer": "ipython3",
   "version": "3.4.2"
  }
 },
 "nbformat": 4,
 "nbformat_minor": 2
}
