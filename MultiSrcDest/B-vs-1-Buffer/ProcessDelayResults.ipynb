{
 "cells": [
  {
   "cell_type": "code",
   "execution_count": 6,
   "metadata": {
    "collapsed": true
   },
   "outputs": [],
   "source": [
    "import pandas as pd"
   ]
  },
  {
   "cell_type": "code",
   "execution_count": 11,
   "metadata": {
    "collapsed": true
   },
   "outputs": [],
   "source": [
    "B1R10 = pd.read_csv('./results_Buffer1_Relay10_Meetrate0.0909.csv')\n",
    "B10R1 = pd.read_csv('./results_Buffer10_Relay1_Meetrate0.5.csv')"
   ]
  },
  {
   "cell_type": "code",
   "execution_count": 12,
   "metadata": {
    "collapsed": true
   },
   "outputs": [],
   "source": [
    "avg_B1R10 = B1R10.groupby(\"ArrivalRate\").mean()[[\"Source0AvgDelay\", \"Source0ApproxDelay1\"]]\n",
    "avg_B10R1 = B10R1.groupby(\"ArrivalRate\").mean()[[\"Source0AvgDelay\", \"Source0ApproxDelay1\"]]"
   ]
  },
  {
   "cell_type": "code",
   "execution_count": 13,
   "metadata": {},
   "outputs": [
    {
     "data": {
      "text/html": [
       "<div>\n",
       "<table border=\"1\" class=\"dataframe\">\n",
       "  <thead>\n",
       "    <tr style=\"text-align: right;\">\n",
       "      <th></th>\n",
       "      <th>Source0AvgDelay</th>\n",
       "      <th>Source0ApproxDelay1</th>\n",
       "    </tr>\n",
       "    <tr>\n",
       "      <th>ArrivalRate</th>\n",
       "      <th></th>\n",
       "      <th></th>\n",
       "    </tr>\n",
       "  </thead>\n",
       "  <tbody>\n",
       "    <tr>\n",
       "      <th>0.221</th>\n",
       "      <td>106.394088</td>\n",
       "      <td>-3.510417</td>\n",
       "    </tr>\n",
       "    <tr>\n",
       "      <th>0.222</th>\n",
       "      <td>116.750663</td>\n",
       "      <td>-3.443299</td>\n",
       "    </tr>\n",
       "    <tr>\n",
       "      <th>0.223</th>\n",
       "      <td>142.524554</td>\n",
       "      <td>-3.377551</td>\n",
       "    </tr>\n",
       "    <tr>\n",
       "      <th>0.224</th>\n",
       "      <td>196.866891</td>\n",
       "      <td>-3.313131</td>\n",
       "    </tr>\n",
       "    <tr>\n",
       "      <th>0.225</th>\n",
       "      <td>271.034862</td>\n",
       "      <td>-3.250000</td>\n",
       "    </tr>\n",
       "    <tr>\n",
       "      <th>0.226</th>\n",
       "      <td>530.651115</td>\n",
       "      <td>-3.188119</td>\n",
       "    </tr>\n",
       "    <tr>\n",
       "      <th>0.227</th>\n",
       "      <td>1089.659312</td>\n",
       "      <td>-3.127451</td>\n",
       "    </tr>\n",
       "  </tbody>\n",
       "</table>\n",
       "</div>"
      ],
      "text/plain": [
       "             Source0AvgDelay  Source0ApproxDelay1\n",
       "ArrivalRate                                      \n",
       "0.221             106.394088            -3.510417\n",
       "0.222             116.750663            -3.443299\n",
       "0.223             142.524554            -3.377551\n",
       "0.224             196.866891            -3.313131\n",
       "0.225             271.034862            -3.250000\n",
       "0.226             530.651115            -3.188119\n",
       "0.227            1089.659312            -3.127451"
      ]
     },
     "execution_count": 13,
     "metadata": {},
     "output_type": "execute_result"
    }
   ],
   "source": [
    "avg_B10R1"
   ]
  },
  {
   "cell_type": "code",
   "execution_count": 14,
   "metadata": {},
   "outputs": [
    {
     "data": {
      "text/html": [
       "<div>\n",
       "<table border=\"1\" class=\"dataframe\">\n",
       "  <thead>\n",
       "    <tr style=\"text-align: right;\">\n",
       "      <th></th>\n",
       "      <th>Source0AvgDelay</th>\n",
       "      <th>Source0ApproxDelay1</th>\n",
       "    </tr>\n",
       "    <tr>\n",
       "      <th>ArrivalRate</th>\n",
       "      <th></th>\n",
       "      <th></th>\n",
       "    </tr>\n",
       "  </thead>\n",
       "  <tbody>\n",
       "    <tr>\n",
       "      <th>0.221</th>\n",
       "      <td>97.753562</td>\n",
       "      <td>101.291293</td>\n",
       "    </tr>\n",
       "    <tr>\n",
       "      <th>0.222</th>\n",
       "      <td>116.436952</td>\n",
       "      <td>120.189594</td>\n",
       "    </tr>\n",
       "    <tr>\n",
       "      <th>0.223</th>\n",
       "      <td>150.613294</td>\n",
       "      <td>147.934378</td>\n",
       "    </tr>\n",
       "    <tr>\n",
       "      <th>0.224</th>\n",
       "      <td>181.701839</td>\n",
       "      <td>192.635487</td>\n",
       "    </tr>\n",
       "    <tr>\n",
       "      <th>0.225</th>\n",
       "      <td>267.119675</td>\n",
       "      <td>276.677504</td>\n",
       "    </tr>\n",
       "    <tr>\n",
       "      <th>0.226</th>\n",
       "      <td>488.624691</td>\n",
       "      <td>492.809137</td>\n",
       "    </tr>\n",
       "    <tr>\n",
       "      <th>0.227</th>\n",
       "      <td>754.281124</td>\n",
       "      <td>2295.227983</td>\n",
       "    </tr>\n",
       "  </tbody>\n",
       "</table>\n",
       "</div>"
      ],
      "text/plain": [
       "             Source0AvgDelay  Source0ApproxDelay1\n",
       "ArrivalRate                                      \n",
       "0.221              97.753562           101.291293\n",
       "0.222             116.436952           120.189594\n",
       "0.223             150.613294           147.934378\n",
       "0.224             181.701839           192.635487\n",
       "0.225             267.119675           276.677504\n",
       "0.226             488.624691           492.809137\n",
       "0.227             754.281124          2295.227983"
      ]
     },
     "execution_count": 14,
     "metadata": {},
     "output_type": "execute_result"
    }
   ],
   "source": [
    "avg_B1R10"
   ]
  },
  {
   "cell_type": "code",
   "execution_count": null,
   "metadata": {
    "collapsed": true
   },
   "outputs": [],
   "source": []
  }
 ],
 "metadata": {
  "kernelspec": {
   "display_name": "Python 3",
   "language": "python",
   "name": "python3"
  },
  "language_info": {
   "codemirror_mode": {
    "name": "ipython",
    "version": 2
   },
   "file_extension": ".py",
   "mimetype": "text/x-python",
   "name": "python",
   "nbconvert_exporter": "python",
   "pygments_lexer": "ipython2",
   "version": "2.7.9"
  }
 },
 "nbformat": 4,
 "nbformat_minor": 2
}
