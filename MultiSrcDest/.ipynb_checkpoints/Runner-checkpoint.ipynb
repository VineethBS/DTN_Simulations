{
 "cells": [
  {
   "cell_type": "code",
   "execution_count": 30,
   "metadata": {
    "collapsed": true
   },
   "outputs": [],
   "source": [
    "import pandas as pd\n",
    "import numpy as np\n",
    "import SprayWait\n",
    "import sys"
   ]
  },
  {
   "cell_type": "code",
   "execution_count": 31,
   "metadata": {
    "collapsed": true
   },
   "outputs": [],
   "source": [
    "configuration = pd.read_excel('configuration.xls', index_col=0)"
   ]
  },
  {
   "cell_type": "code",
   "execution_count": 32,
   "metadata": {},
   "outputs": [
    {
     "data": {
      "text/html": [
       "<div>\n",
       "<table border=\"1\" class=\"dataframe\">\n",
       "  <thead>\n",
       "    <tr style=\"text-align: right;\">\n",
       "      <th></th>\n",
       "      <th>0</th>\n",
       "    </tr>\n",
       "    <tr>\n",
       "      <th>Parameter</th>\n",
       "      <th></th>\n",
       "    </tr>\n",
       "  </thead>\n",
       "  <tbody>\n",
       "    <tr>\n",
       "      <th>numRuns</th>\n",
       "      <td>1</td>\n",
       "    </tr>\n",
       "    <tr>\n",
       "      <th>numSources</th>\n",
       "      <td>2</td>\n",
       "    </tr>\n",
       "    <tr>\n",
       "      <th>commonArrivalRate</th>\n",
       "      <td>0.05</td>\n",
       "    </tr>\n",
       "    <tr>\n",
       "      <th>arrivalRateMin</th>\n",
       "      <td>0.05</td>\n",
       "    </tr>\n",
       "    <tr>\n",
       "      <th>arrivalRateStep</th>\n",
       "      <td>0.05</td>\n",
       "    </tr>\n",
       "    <tr>\n",
       "      <th>arrivalRateMax</th>\n",
       "      <td>1.24</td>\n",
       "    </tr>\n",
       "    <tr>\n",
       "      <th>meetingRateMin</th>\n",
       "      <td>1</td>\n",
       "    </tr>\n",
       "    <tr>\n",
       "      <th>meetingRateStep</th>\n",
       "      <td>1</td>\n",
       "    </tr>\n",
       "    <tr>\n",
       "      <th>meetingRateMax</th>\n",
       "      <td>1</td>\n",
       "    </tr>\n",
       "    <tr>\n",
       "      <th>numRelayMin</th>\n",
       "      <td>5</td>\n",
       "    </tr>\n",
       "    <tr>\n",
       "      <th>numRelayStep</th>\n",
       "      <td>1</td>\n",
       "    </tr>\n",
       "    <tr>\n",
       "      <th>numRelayMax</th>\n",
       "      <td>5</td>\n",
       "    </tr>\n",
       "    <tr>\n",
       "      <th>numCopiesMin</th>\n",
       "      <td>2</td>\n",
       "    </tr>\n",
       "    <tr>\n",
       "      <th>numCopiesStep</th>\n",
       "      <td>1</td>\n",
       "    </tr>\n",
       "    <tr>\n",
       "      <th>numCopiesMax</th>\n",
       "      <td>2</td>\n",
       "    </tr>\n",
       "    <tr>\n",
       "      <th>relayBufferSize</th>\n",
       "      <td>10</td>\n",
       "    </tr>\n",
       "    <tr>\n",
       "      <th>traceFileName</th>\n",
       "      <td>temp.csv</td>\n",
       "    </tr>\n",
       "    <tr>\n",
       "      <th>fileName</th>\n",
       "      <td>test.csv</td>\n",
       "    </tr>\n",
       "    <tr>\n",
       "      <th>maxRuntime</th>\n",
       "      <td>100</td>\n",
       "    </tr>\n",
       "  </tbody>\n",
       "</table>\n",
       "</div>"
      ],
      "text/plain": [
       "                          0\n",
       "Parameter                  \n",
       "numRuns                   1\n",
       "numSources                2\n",
       "commonArrivalRate      0.05\n",
       "arrivalRateMin         0.05\n",
       "arrivalRateStep        0.05\n",
       "arrivalRateMax         1.24\n",
       "meetingRateMin            1\n",
       "meetingRateStep           1\n",
       "meetingRateMax            1\n",
       "numRelayMin               5\n",
       "numRelayStep              1\n",
       "numRelayMax               5\n",
       "numCopiesMin              2\n",
       "numCopiesStep             1\n",
       "numCopiesMax              2\n",
       "relayBufferSize          10\n",
       "traceFileName      temp.csv\n",
       "fileName           test.csv\n",
       "maxRuntime              100"
      ]
     },
     "execution_count": 32,
     "metadata": {},
     "output_type": "execute_result"
    }
   ],
   "source": [
    "configuration"
   ]
  },
  {
   "cell_type": "code",
   "execution_count": 33,
   "metadata": {},
   "outputs": [],
   "source": [
    "for scenario in range(number_scenarios):\n",
    "    scenario_params = configuration[scenario]\n",
    "    if scenario_params.numRuns == 0:\n",
    "        continue\n",
    "    \n",
    "    for arrival_rate in np.arange(scenario_params.arrivalRateMin, \\\n",
    "                                  scenario_params.arrivalRateMax + scenario_params.arrivalRateStep, scenario_params.arrivalRateStep):\n",
    "        for meeting_rate in np.arange(scenario_params.meetingRateMin, \\\n",
    "                                      scenario_params.meetingRateMax + scenario_params.meetingRateStep, \\\n",
    "                                      scenario_params.meetingRateStep):\n",
    "            for number_relays in np.arange(scenario_params.numRelayMin, \\\n",
    "                                           scenario_params.numRelayMax + scenario_params.numRelayStep, \\\n",
    "                                           scenario_params.numRelayStep):\n",
    "                for number_copies in np.arange(scenario_params.numCopiesMin, \\\n",
    "                                               scenario_params.numCopiesMax + scenario_params.numCopiesStep, \\\n",
    "                                               scenario_params.numCopiesStep):\n",
    "                    list_packet_arrivalrates = [scenario_params.commonArrivalRate] * (scenario_params.numSources - 1)\n",
    "                    list_packet_arrivalrates.insert(0, arrival_rate)\n",
    "                    \n",
    "                    SprayWait.Simulation(scenario_params.numSources, list_packet_arrivalrates, number_copies, \\\n",
    "                                         number_relays, scenario_params.relayBufferSize, meeting_rate, \\\n",
    "                                         scenario_params.maxRuntime, scenario_params.traceFileName)\n"
   ]
  },
  {
   "cell_type": "code",
   "execution_count": 36,
   "metadata": {
    "collapsed": true
   },
   "outputs": [],
   "source": [
    "trace = pd.read_csv(scenario_params.traceFileName, header = None)"
   ]
  },
  {
   "cell_type": "code",
   "execution_count": 39,
   "metadata": {},
   "outputs": [],
   "source": [
    "for s in range(scenario_params.numSources):\n",
    "    trace_forsource = trace[(trace[0] == \"Source\") & (trace[1] == s)]\n",
    "    break"
   ]
  },
  {
   "cell_type": "code",
   "execution_count": 48,
   "metadata": {},
   "outputs": [
    {
     "name": "stdout",
     "output_type": "stream",
     "text": [
      "Populating the interactive namespace from numpy and matplotlib\n"
     ]
    },
    {
     "name": "stderr",
     "output_type": "stream",
     "text": [
      "/usr/local/lib/python3.4/dist-packages/IPython/core/magics/pylab.py:161: UserWarning: pylab import has clobbered these variables: ['trace']\n",
      "`%matplotlib` prevents importing * from pylab and numpy\n",
      "  \"\\n`%matplotlib` prevents importing * from pylab and numpy\"\n"
     ]
    }
   ],
   "source": [
    "%pylab inline"
   ]
  },
  {
   "cell_type": "code",
   "execution_count": 64,
   "metadata": {},
   "outputs": [
    {
     "data": {
      "text/plain": [
       "[<matplotlib.lines.Line2D at 0x7f42f250b518>]"
      ]
     },
     "execution_count": 64,
     "metadata": {},
     "output_type": "execute_result"
    },
    {
     "data": {
      "image/png": "[encoded data removed]",
      "text/plain": [
       "<matplotlib.figure.Figure at 0x7f42f25e77f0>"
      ]
     },
     "metadata": {},
     "output_type": "display_data"
    }
   ],
   "source": [
    "plot(trace_forsource[2].values, trace_forsource[5].values)"
   ]
  },
  {
   "cell_type": "code",
   "execution_count": 67,
   "metadata": {},
   "outputs": [
    {
     "data": {
      "text/plain": [
       "0       0.000000\n",
       "2       2.233299\n",
       "3       2.420010\n",
       "5       2.676272\n",
       "7       2.905807\n",
       "8       2.919337\n",
       "11      3.190042\n",
       "14      3.810760\n",
       "16      3.851805\n",
       "18      3.993925\n",
       "21      4.468191\n",
       "22      4.912998\n",
       "25      5.153075\n",
       "28      5.347503\n",
       "30      5.627325\n",
       "32      5.668069\n",
       "33      6.059261\n",
       "35      6.139968\n",
       "37      6.165277\n",
       "39      6.181005\n",
       "41      6.631783\n",
       "44      6.967456\n",
       "51      8.203759\n",
       "52      8.433459\n",
       "54      8.477244\n",
       "58      9.609744\n",
       "59      9.790873\n",
       "62      9.991108\n",
       "64     10.151258\n",
       "65     10.187826\n",
       "         ...    \n",
       "819    93.378322\n",
       "821    93.402245\n",
       "822    93.411894\n",
       "824    93.515768\n",
       "826    93.555381\n",
       "828    93.775209\n",
       "832    95.140832\n",
       "833    95.216923\n",
       "835    95.218995\n",
       "840    96.440443\n",
       "841    96.708006\n",
       "843    96.812319\n",
       "845    96.994257\n",
       "846    97.309009\n",
       "849    97.416269\n",
       "851    97.436927\n",
       "854    97.561525\n",
       "856    97.821161\n",
       "860    98.336913\n",
       "863    98.421028\n",
       "865    98.438178\n",
       "869    99.340941\n",
       "870    99.451373\n",
       "872    99.462543\n",
       "874    99.593343\n",
       "876    99.654857\n",
       "878    99.696054\n",
       "880    99.809525\n",
       "881    99.907735\n",
       "883    99.933241\n",
       "Name: 2, dtype: float64"
      ]
     },
     "execution_count": 67,
     "metadata": {},
     "output_type": "execute_result"
    }
   ],
   "source": [
    "trace_forsource[2]"
   ]
  },
  {
   "cell_type": "code",
   "execution_count": 79,
   "metadata": {},
   "outputs": [],
   "source": [
    "x = trace_forsource[2].diff()[1:].values"
   ]
  },
  {
   "cell_type": "code",
   "execution_count": 80,
   "metadata": {},
   "outputs": [],
   "source": [
    "y = trace_forsource[5][:-1].values"
   ]
  },
  {
   "cell_type": "code",
   "execution_count": 83,
   "metadata": {},
   "outputs": [
    {
     "data": {
      "text/plain": [
       "132.86839000000009"
      ]
     },
     "execution_count": 83,
     "metadata": {},
     "output_type": "execute_result"
    }
   ],
   "source": [
    "np.sum(x * y)"
   ]
  },
  {
   "cell_type": "code",
   "execution_count": null,
   "metadata": {
    "collapsed": true
   },
   "outputs": [],
   "source": []
  }
 ],
 "metadata": {
  "kernelspec": {
   "display_name": "Python 3",
   "language": "python",
   "name": "python3"
  },
  "language_info": {
   "codemirror_mode": {
    "name": "ipython",
    "version": 3
   },
   "file_extension": ".py",
   "mimetype": "text/x-python",
   "name": "python",
   "nbconvert_exporter": "python",
   "pygments_lexer": "ipython3",
   "version": "3.4.2"
  }
 },
 "nbformat": 4,
 "nbformat_minor": 2
}
