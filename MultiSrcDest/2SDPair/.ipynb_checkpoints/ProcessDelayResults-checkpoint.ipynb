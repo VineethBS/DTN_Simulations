{
 "cells": [
  {
   "cell_type": "code",
   "execution_count": 1,
   "metadata": {
    "collapsed": true
   },
   "outputs": [],
   "source": [
    "import pandas as pd"
   ]
  },
  {
   "cell_type": "code",
   "execution_count": 2,
   "metadata": {
    "collapsed": true
   },
   "outputs": [],
   "source": [
    "d = pd.read_csv('results_numR_5.csv')"
   ]
  },
  {
   "cell_type": "code",
   "execution_count": 3,
   "metadata": {
    "collapsed": true
   },
   "outputs": [],
   "source": [
    "avg = d.groupby(\"ArrivalRate\").mean()[[\"Source0AvgDelay\", \"Source0ApproxDelay1\", \"Source0ApproxDelay2\"]]"
   ]
  },
  {
   "cell_type": "code",
   "execution_count": 4,
   "metadata": {},
   "outputs": [
    {
     "data": {
      "text/html": [
       "<div>\n",
       "<table border=\"1\" class=\"dataframe\">\n",
       "  <thead>\n",
       "    <tr style=\"text-align: right;\">\n",
       "      <th></th>\n",
       "      <th>Source0AvgDelay</th>\n",
       "      <th>Source0ApproxDelay1</th>\n",
       "      <th>Source0ApproxDelay2</th>\n",
       "    </tr>\n",
       "    <tr>\n",
       "      <th>ArrivalRate</th>\n",
       "      <th></th>\n",
       "      <th></th>\n",
       "      <th></th>\n",
       "    </tr>\n",
       "  </thead>\n",
       "  <tbody>\n",
       "    <tr>\n",
       "      <th>0.39</th>\n",
       "      <td>20.088781</td>\n",
       "      <td>26.775</td>\n",
       "      <td>24.767209</td>\n",
       "    </tr>\n",
       "    <tr>\n",
       "      <th>0.40</th>\n",
       "      <td>31.143081</td>\n",
       "      <td>42.400</td>\n",
       "      <td>37.485435</td>\n",
       "    </tr>\n",
       "    <tr>\n",
       "      <th>0.41</th>\n",
       "      <td>66.016006</td>\n",
       "      <td>104.900</td>\n",
       "      <td>78.781364</td>\n",
       "    </tr>\n",
       "  </tbody>\n",
       "</table>\n",
       "</div>"
      ],
      "text/plain": [
       "             Source0AvgDelay  Source0ApproxDelay1  Source0ApproxDelay2\n",
       "ArrivalRate                                                           \n",
       "0.39               20.088781               26.775            24.767209\n",
       "0.40               31.143081               42.400            37.485435\n",
       "0.41               66.016006              104.900            78.781364"
      ]
     },
     "execution_count": 4,
     "metadata": {},
     "output_type": "execute_result"
    }
   ],
   "source": [
    "avg"
   ]
  },
  {
   "cell_type": "code",
   "execution_count": 5,
   "metadata": {
    "collapsed": true
   },
   "outputs": [],
   "source": [
    "d = pd.read_csv('results_numR_1.csv')"
   ]
  },
  {
   "cell_type": "code",
   "execution_count": 6,
   "metadata": {
    "collapsed": true
   },
   "outputs": [],
   "source": [
    "avg = d.groupby(\"ArrivalRate\").mean()[[\"Source0AvgDelay\", \"Source0ApproxDelay1\", \"Source0ApproxDelay2\"]]"
   ]
  },
  {
   "cell_type": "code",
   "execution_count": 7,
   "metadata": {},
   "outputs": [
    {
     "data": {
      "text/html": [
       "<div>\n",
       "<table border=\"1\" class=\"dataframe\">\n",
       "  <thead>\n",
       "    <tr style=\"text-align: right;\">\n",
       "      <th></th>\n",
       "      <th>Source0AvgDelay</th>\n",
       "      <th>Source0ApproxDelay1</th>\n",
       "      <th>Source0ApproxDelay2</th>\n",
       "    </tr>\n",
       "    <tr>\n",
       "      <th>ArrivalRate</th>\n",
       "      <th></th>\n",
       "      <th></th>\n",
       "      <th></th>\n",
       "    </tr>\n",
       "  </thead>\n",
       "  <tbody>\n",
       "    <tr>\n",
       "      <th>0.052</th>\n",
       "      <td>140.775419</td>\n",
       "      <td>183.750000</td>\n",
       "      <td>161.038902</td>\n",
       "    </tr>\n",
       "    <tr>\n",
       "      <th>0.053</th>\n",
       "      <td>183.172833</td>\n",
       "      <td>253.043478</td>\n",
       "      <td>211.198797</td>\n",
       "    </tr>\n",
       "    <tr>\n",
       "      <th>0.054</th>\n",
       "      <td>254.374909</td>\n",
       "      <td>411.428571</td>\n",
       "      <td>309.613507</td>\n",
       "    </tr>\n",
       "    <tr>\n",
       "      <th>0.055</th>\n",
       "      <td>448.318442</td>\n",
       "      <td>1140.000000</td>\n",
       "      <td>590.453489</td>\n",
       "    </tr>\n",
       "  </tbody>\n",
       "</table>\n",
       "</div>"
      ],
      "text/plain": [
       "             Source0AvgDelay  Source0ApproxDelay1  Source0ApproxDelay2\n",
       "ArrivalRate                                                           \n",
       "0.052             140.775419           183.750000           161.038902\n",
       "0.053             183.172833           253.043478           211.198797\n",
       "0.054             254.374909           411.428571           309.613507\n",
       "0.055             448.318442          1140.000000           590.453489"
      ]
     },
     "execution_count": 7,
     "metadata": {},
     "output_type": "execute_result"
    }
   ],
   "source": [
    "avg"
   ]
  }
 ],
 "metadata": {
  "kernelspec": {
   "display_name": "Python 3",
   "language": "python",
   "name": "python3"
  },
  "language_info": {
   "codemirror_mode": {
    "name": "ipython",
    "version": 3
   },
   "file_extension": ".py",
   "mimetype": "text/x-python",
   "name": "python",
   "nbconvert_exporter": "python",
   "pygments_lexer": "ipython3",
   "version": "3.4.2"
  }
 },
 "nbformat": 4,
 "nbformat_minor": 2
}
