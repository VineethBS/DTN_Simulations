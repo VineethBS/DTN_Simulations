{
 "cells": [
  {
   "cell_type": "code",
   "execution_count": 1,
   "metadata": {
    "collapsed": true
   },
   "outputs": [],
   "source": [
    "import pandas as pd"
   ]
  },
  {
   "cell_type": "code",
   "execution_count": 10,
   "metadata": {
    "collapsed": true
   },
   "outputs": [],
   "source": [
    "d = pd.read_csv('./2SDPair/results_numR_1.csv')"
   ]
  },
  {
   "cell_type": "code",
   "execution_count": 11,
   "metadata": {
    "collapsed": true
   },
   "outputs": [],
   "source": [
    "avg = d.groupby(\"ArrivalRate\").mean()[[\"Source0AvgDelay\", \"Source1AvgDelay\", \"Source0ApproxDelay\", \"Source1ApproxDelay\"]]"
   ]
  },
  {
   "cell_type": "code",
   "execution_count": 12,
   "metadata": {
    "collapsed": true
   },
   "outputs": [],
   "source": [
    "std = d.groupby(\"ArrivalRate\").std()[[\"Source0AvgDelay\", \"Source1AvgDelay\", \"Source0ApproxDelay\", \"Source1ApproxDelay\"]]"
   ]
  },
  {
   "cell_type": "code",
   "execution_count": 13,
   "metadata": {
    "collapsed": true
   },
   "outputs": [],
   "source": [
    "avg[\"Source0Std\"] = std[\"Source0AvgDelay\"]\n",
    "avg[\"Source1Std\"] = std[\"Source1AvgDelay\"]"
   ]
  },
  {
   "cell_type": "code",
   "execution_count": 15,
   "metadata": {},
   "outputs": [
    {
     "data": {
      "text/html": [
       "<div>\n",
       "<table border=\"1\" class=\"dataframe\">\n",
       "  <thead>\n",
       "    <tr style=\"text-align: right;\">\n",
       "      <th></th>\n",
       "      <th>Source0AvgDelay</th>\n",
       "      <th>Source1AvgDelay</th>\n",
       "      <th>Source0ApproxDelay</th>\n",
       "      <th>Source1ApproxDelay</th>\n",
       "      <th>Source0Std</th>\n",
       "      <th>Source1Std</th>\n",
       "    </tr>\n",
       "    <tr>\n",
       "      <th>ArrivalRate</th>\n",
       "      <th></th>\n",
       "      <th></th>\n",
       "      <th></th>\n",
       "      <th></th>\n",
       "      <th></th>\n",
       "      <th></th>\n",
       "    </tr>\n",
       "  </thead>\n",
       "  <tbody>\n",
       "    <tr>\n",
       "      <th>0.052</th>\n",
       "      <td>138.410582</td>\n",
       "      <td>199.341541</td>\n",
       "      <td>186.944384</td>\n",
       "      <td>432.613717</td>\n",
       "      <td>13.511356</td>\n",
       "      <td>31.557153</td>\n",
       "    </tr>\n",
       "    <tr>\n",
       "      <th>0.053</th>\n",
       "      <td>173.163893</td>\n",
       "      <td>214.249595</td>\n",
       "      <td>253.465640</td>\n",
       "      <td>399.259866</td>\n",
       "      <td>18.461227</td>\n",
       "      <td>34.413617</td>\n",
       "    </tr>\n",
       "    <tr>\n",
       "      <th>0.054</th>\n",
       "      <td>268.031471</td>\n",
       "      <td>261.208450</td>\n",
       "      <td>405.497459</td>\n",
       "      <td>439.887127</td>\n",
       "      <td>60.153764</td>\n",
       "      <td>36.373997</td>\n",
       "    </tr>\n",
       "    <tr>\n",
       "      <th>0.055</th>\n",
       "      <td>550.475998</td>\n",
       "      <td>331.082052</td>\n",
       "      <td>658.401588</td>\n",
       "      <td>426.948637</td>\n",
       "      <td>260.679028</td>\n",
       "      <td>73.992874</td>\n",
       "    </tr>\n",
       "  </tbody>\n",
       "</table>\n",
       "</div>"
      ],
      "text/plain": [
       "             Source0AvgDelay  Source1AvgDelay  Source0ApproxDelay  \\\n",
       "ArrivalRate                                                         \n",
       "0.052             138.410582       199.341541          186.944384   \n",
       "0.053             173.163893       214.249595          253.465640   \n",
       "0.054             268.031471       261.208450          405.497459   \n",
       "0.055             550.475998       331.082052          658.401588   \n",
       "\n",
       "             Source1ApproxDelay  Source0Std  Source1Std  \n",
       "ArrivalRate                                              \n",
       "0.052                432.613717   13.511356   31.557153  \n",
       "0.053                399.259866   18.461227   34.413617  \n",
       "0.054                439.887127   60.153764   36.373997  \n",
       "0.055                426.948637  260.679028   73.992874  "
      ]
     },
     "execution_count": 15,
     "metadata": {},
     "output_type": "execute_result"
    }
   ],
   "source": [
    "avg"
   ]
  },
  {
   "cell_type": "code",
   "execution_count": null,
   "metadata": {
    "collapsed": true
   },
   "outputs": [],
   "source": []
  }
 ],
 "metadata": {
  "kernelspec": {
   "display_name": "Python 3",
   "language": "python",
   "name": "python3"
  },
  "language_info": {
   "codemirror_mode": {
    "name": "ipython",
    "version": 2
   },
   "file_extension": ".py",
   "mimetype": "text/x-python",
   "name": "python",
   "nbconvert_exporter": "python",
   "pygments_lexer": "ipython2",
   "version": "2.7.9"
  }
 },
 "nbformat": 4,
 "nbformat_minor": 2
}
