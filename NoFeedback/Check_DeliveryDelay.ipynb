{
 "cells": [
  {
   "cell_type": "code",
   "execution_count": 21,
   "metadata": {},
   "outputs": [],
   "source": [
    "import pandas as pd"
   ]
  },
  {
   "cell_type": "markdown",
   "metadata": {},
   "source": [
    "### For K = 1 the systems are equivalent"
   ]
  },
  {
   "cell_type": "code",
   "execution_count": 23,
   "metadata": {},
   "outputs": [
    {
     "name": "stdout",
     "output_type": "stream",
     "text": [
      "             AvgQDelay  AvgDDelay\n",
      "ArrivalRate                      \n",
      "0.01         13.754241   9.970697\n",
      "             AvgQDelay  AvgDDelay\n",
      "ArrivalRate                      \n",
      "0.01          0.568344   0.346271\n"
     ]
    }
   ],
   "source": [
    "d1 = pd.read_csv('B1_N1_K1_Beta0.1_Lambda01_09.csv')\n",
    "avg1 = d1.groupby(\"ArrivalRate\").mean()[[\"AvgQDelay\", \"AvgDDelay\"]]\n",
    "std1 = d1.groupby(\"ArrivalRate\").std()[[\"AvgQDelay\", \"AvgDDelay\"]]\n",
    "print(avg1)\n",
    "print(std1)"
   ]
  },
  {
   "cell_type": "code",
   "execution_count": 24,
   "metadata": {},
   "outputs": [
    {
     "name": "stdout",
     "output_type": "stream",
     "text": [
      "             AvgQDelay  AvgDDelay\n",
      "ArrivalRate                      \n",
      "0.01          1.022748  10.013772\n",
      "             AvgQDelay  AvgDDelay\n",
      "ArrivalRate                      \n",
      "0.01            0.0316   0.304484\n"
     ]
    }
   ],
   "source": [
    "d1 = pd.read_csv('B1_N10_K1_Beta0.1_Lambda01_09.csv')\n",
    "avg1 = d1.groupby(\"ArrivalRate\").mean()[[\"AvgQDelay\", \"AvgDDelay\"]]\n",
    "std1 = d1.groupby(\"ArrivalRate\").std()[[\"AvgQDelay\", \"AvgDDelay\"]]\n",
    "print(avg1)\n",
    "print(std1)"
   ]
  },
  {
   "cell_type": "code",
   "execution_count": 25,
   "metadata": {},
   "outputs": [
    {
     "name": "stdout",
     "output_type": "stream",
     "text": [
      "             AvgQDelay  AvgDDelay\n",
      "ArrivalRate                      \n",
      "0.01          0.202737  10.018159\n",
      "             AvgQDelay  AvgDDelay\n",
      "ArrivalRate                      \n",
      "0.01          0.004721    0.31982\n"
     ]
    }
   ],
   "source": [
    "d1 = pd.read_csv('B1_N50_K1_Beta0.1_Lambda01_09.csv')\n",
    "avg1 = d1.groupby(\"ArrivalRate\").mean()[[\"AvgQDelay\", \"AvgDDelay\"]]\n",
    "std1 = d1.groupby(\"ArrivalRate\").std()[[\"AvgQDelay\", \"AvgDDelay\"]]\n",
    "print(avg1)\n",
    "print(std1)"
   ]
  },
  {
   "cell_type": "code",
   "execution_count": 27,
   "metadata": {},
   "outputs": [
    {
     "name": "stdout",
     "output_type": "stream",
     "text": [
      "             AvgQDelay  AvgDDelay\n",
      "ArrivalRate                      \n",
      "0.01          1.006424   10.06134\n",
      "             AvgQDelay  AvgDDelay\n",
      "ArrivalRate                      \n",
      "0.01          0.033081   0.377054\n"
     ]
    }
   ],
   "source": [
    "d1 = pd.read_csv('B10_N10_K1_Beta0.1_Lambda01_09.csv')\n",
    "avg1 = d1.groupby(\"ArrivalRate\").mean()[[\"AvgQDelay\", \"AvgDDelay\"]]\n",
    "std1 = d1.groupby(\"ArrivalRate\").std()[[\"AvgQDelay\", \"AvgDDelay\"]]\n",
    "print(avg1)\n",
    "print(std1)"
   ]
  },
  {
   "cell_type": "markdown",
   "metadata": {},
   "source": [
    "### Checking what happens when K = 2, between the system with feedback and wo feedback"
   ]
  },
  {
   "cell_type": "code",
   "execution_count": 28,
   "metadata": {},
   "outputs": [
    {
     "name": "stdout",
     "output_type": "stream",
     "text": [
      "              AvgQDelay  AvgDDelay\n",
      "ArrivalRate                       \n",
      "0.005         36.566081   9.956736\n",
      "0.010         47.342166  10.171099\n",
      "0.015         68.390249   9.919138\n",
      "0.020        122.963490   9.994552\n",
      "             AvgQDelay  AvgDDelay\n",
      "ArrivalRate                      \n",
      "0.005         1.192409   0.340000\n",
      "0.010         2.882372   0.430582\n",
      "0.015         3.600870   0.168320\n",
      "0.020        10.382985   0.203857\n"
     ]
    }
   ],
   "source": [
    "d1 = pd.read_csv('B1_N1_K2_Beta0.1_Lambda01_09.csv')\n",
    "avg1 = d1.groupby(\"ArrivalRate\").mean()[[\"AvgQDelay\", \"AvgDDelay\"]]\n",
    "std1 = d1.groupby(\"ArrivalRate\").std()[[\"AvgQDelay\", \"AvgDDelay\"]]\n",
    "print(avg1)\n",
    "print(std1)"
   ]
  },
  {
   "cell_type": "markdown",
   "metadata": {},
   "source": [
    "### Checking effect of B and $K = 1$ on the delivery delay"
   ]
  },
  {
   "cell_type": "code",
   "execution_count": 29,
   "metadata": {},
   "outputs": [
    {
     "name": "stdout",
     "output_type": "stream",
     "text": [
      "             AvgQDelay  AvgDDelay\n",
      "ArrivalRate                      \n",
      "0.005        11.724240   9.929954\n",
      "0.010        13.780212  10.080797\n",
      "0.015        16.368254  10.057679\n",
      "0.020        19.570120   9.976603\n",
      "             AvgQDelay  AvgDDelay\n",
      "ArrivalRate                      \n",
      "0.005         0.526111   0.368857\n",
      "0.010         0.679477   0.416995\n",
      "0.015         0.602658   0.170036\n",
      "0.020         0.738564   0.141337\n"
     ]
    }
   ],
   "source": [
    "d1 = pd.read_csv('B1_N1_K1_Beta0.1_Lambda01_09.csv')\n",
    "avg1 = d1.groupby(\"ArrivalRate\").mean()[[\"AvgQDelay\", \"AvgDDelay\"]]\n",
    "std1 = d1.groupby(\"ArrivalRate\").std()[[\"AvgQDelay\", \"AvgDDelay\"]]\n",
    "print(avg1)\n",
    "print(std1)"
   ]
  },
  {
   "cell_type": "code",
   "execution_count": 30,
   "metadata": {},
   "outputs": [
    {
     "name": "stdout",
     "output_type": "stream",
     "text": [
      "             AvgQDelay  AvgDDelay\n",
      "ArrivalRate                      \n",
      "0.005        10.655327  10.294792\n",
      "0.010        11.310636  10.953557\n",
      "0.015        12.243079  11.302058\n",
      "0.020        13.592270  11.627472\n"
     ]
    }
   ],
   "source": [
    "d1 = pd.read_csv('B2_N1_K1_Beta0.1_Lambda01_09.csv')\n",
    "avg1 = d1.groupby(\"ArrivalRate\").mean()[[\"AvgQDelay\", \"AvgDDelay\"]]\n",
    "std1 = d1.groupby(\"ArrivalRate\").std()[[\"AvgQDelay\", \"AvgDDelay\"]]\n",
    "print(avg1)"
   ]
  },
  {
   "cell_type": "code",
   "execution_count": 31,
   "metadata": {},
   "outputs": [
    {
     "name": "stdout",
     "output_type": "stream",
     "text": [
      "             AvgQDelay  AvgDDelay\n",
      "ArrivalRate                      \n",
      "0.005        10.357014  10.596015\n",
      "0.010        11.168810  11.183363\n",
      "0.015        11.863974  11.863839\n",
      "0.020        12.355540  12.547555\n"
     ]
    }
   ],
   "source": [
    "d1 = pd.read_csv('B5_N1_K1_Beta0.1_Lambda01_09.csv')\n",
    "avg1 = d1.groupby(\"ArrivalRate\").mean()[[\"AvgQDelay\", \"AvgDDelay\"]]\n",
    "std1 = d1.groupby(\"ArrivalRate\").std()[[\"AvgQDelay\", \"AvgDDelay\"]]\n",
    "print(avg1)"
   ]
  },
  {
   "cell_type": "code",
   "execution_count": 32,
   "metadata": {},
   "outputs": [
    {
     "name": "stdout",
     "output_type": "stream",
     "text": [
      "             AvgQDelay  AvgDDelay\n",
      "ArrivalRate                      \n",
      "0.005        10.199929  10.536166\n",
      "0.010        11.319909  11.145343\n",
      "0.015        11.946823  11.688041\n",
      "0.020        12.439413  12.420486\n"
     ]
    }
   ],
   "source": [
    "d1 = pd.read_csv('B10_N1_K1_Beta0.1_Lambda01_09.csv')\n",
    "avg1 = d1.groupby(\"ArrivalRate\").mean()[[\"AvgQDelay\", \"AvgDDelay\"]]\n",
    "std1 = d1.groupby(\"ArrivalRate\").std()[[\"AvgQDelay\", \"AvgDDelay\"]]\n",
    "print(avg1)"
   ]
  },
  {
   "cell_type": "code",
   "execution_count": 33,
   "metadata": {},
   "outputs": [
    {
     "name": "stdout",
     "output_type": "stream",
     "text": [
      "             AvgQDelay  AvgDDelay\n",
      "ArrivalRate                      \n",
      "0.005        10.199929  10.536166\n",
      "0.010        11.319909  11.145343\n",
      "0.015        11.946823  11.688041\n",
      "0.020        12.439413  12.420486\n"
     ]
    }
   ],
   "source": [
    "d1 = pd.read_csv('B50_N1_K1_Beta0.1_Lambda01_09.csv')\n",
    "avg1 = d1.groupby(\"ArrivalRate\").mean()[[\"AvgQDelay\", \"AvgDDelay\"]]\n",
    "std1 = d1.groupby(\"ArrivalRate\").std()[[\"AvgQDelay\", \"AvgDDelay\"]]\n",
    "print(avg1)"
   ]
  },
  {
   "cell_type": "code",
   "execution_count": 34,
   "metadata": {},
   "outputs": [
    {
     "name": "stdout",
     "output_type": "stream",
     "text": [
      "             AvgQDelay  AvgDDelay\n",
      "ArrivalRate                      \n",
      "0.005        10.199929  10.536166\n",
      "0.010        11.319909  11.145343\n",
      "0.015        11.946823  11.688041\n",
      "0.020        12.439413  12.420486\n"
     ]
    }
   ],
   "source": [
    "d1 = pd.read_csv('B100_N1_K1_Beta0.1_Lambda01_09.csv')\n",
    "avg1 = d1.groupby(\"ArrivalRate\").mean()[[\"AvgQDelay\", \"AvgDDelay\"]]\n",
    "std1 = d1.groupby(\"ArrivalRate\").std()[[\"AvgQDelay\", \"AvgDDelay\"]]\n",
    "print(avg1)"
   ]
  },
  {
   "cell_type": "markdown",
   "metadata": {},
   "source": [
    "### If beta is made smaller - can we see the difference in delivery delay more clearly?"
   ]
  },
  {
   "cell_type": "code",
   "execution_count": 35,
   "metadata": {},
   "outputs": [
    {
     "name": "stdout",
     "output_type": "stream",
     "text": [
      "              AvgQDelay  AvgDDelay\n",
      "ArrivalRate                       \n",
      "0.005         27.664075  20.296363\n",
      "0.010         39.739904  20.038403\n",
      "0.015         65.588226  20.217161\n",
      "0.020        137.180458  20.220758\n"
     ]
    }
   ],
   "source": [
    "d1 = pd.read_csv('B1_N1_K1_Beta0.05_Lambda01_09.csv')\n",
    "avg1 = d1.groupby(\"ArrivalRate\").mean()[[\"AvgQDelay\", \"AvgDDelay\"]]\n",
    "std1 = d1.groupby(\"ArrivalRate\").std()[[\"AvgQDelay\", \"AvgDDelay\"]]\n",
    "print(avg1)"
   ]
  },
  {
   "cell_type": "code",
   "execution_count": 42,
   "metadata": {},
   "outputs": [
    {
     "name": "stdout",
     "output_type": "stream",
     "text": [
      "             AvgQDelay  AvgDDelay\n",
      "ArrivalRate                      \n",
      "0.005        22.507938  22.164693\n",
      "0.010        26.666732  23.364107\n",
      "0.015        35.371506  25.444915\n",
      "0.020        52.297920  27.019546\n"
     ]
    }
   ],
   "source": [
    "d1 = pd.read_csv('B2_N1_K1_Beta0.05_Lambda01_09.csv')\n",
    "avg1 = d1.groupby(\"ArrivalRate\").mean()[[\"AvgQDelay\", \"AvgDDelay\"]]\n",
    "std1 = d1.groupby(\"ArrivalRate\").std()[[\"AvgQDelay\", \"AvgDDelay\"]]\n",
    "print(avg1)"
   ]
  },
  {
   "cell_type": "code",
   "execution_count": 41,
   "metadata": {},
   "outputs": [
    {
     "name": "stdout",
     "output_type": "stream",
     "text": [
      "             AvgQDelay  AvgDDelay\n",
      "ArrivalRate                      \n",
      "0.005        22.223785  22.298108\n",
      "0.010        24.669490  25.106000\n",
      "0.015        28.609047  28.156984\n",
      "0.020        34.665834  33.028943\n"
     ]
    }
   ],
   "source": [
    "d1 = pd.read_csv('B5_N1_K1_Beta0.05_Lambda01_09.csv')\n",
    "avg1 = d1.groupby(\"ArrivalRate\").mean()[[\"AvgQDelay\", \"AvgDDelay\"]]\n",
    "std1 = d1.groupby(\"ArrivalRate\").std()[[\"AvgQDelay\", \"AvgDDelay\"]]\n",
    "print(avg1)"
   ]
  },
  {
   "cell_type": "code",
   "execution_count": 39,
   "metadata": {},
   "outputs": [
    {
     "name": "stdout",
     "output_type": "stream",
     "text": [
      "             AvgQDelay  AvgDDelay\n",
      "ArrivalRate                      \n",
      "0.005        22.050946  22.203982\n",
      "0.010        24.836680  25.138175\n",
      "0.015        28.307199  28.479806\n",
      "0.020        33.440559  33.645715\n"
     ]
    }
   ],
   "source": [
    "d1 = pd.read_csv('B10_N1_K1_Beta0.05_Lambda01_09.csv')\n",
    "avg1 = d1.groupby(\"ArrivalRate\").mean()[[\"AvgQDelay\", \"AvgDDelay\"]]\n",
    "std1 = d1.groupby(\"ArrivalRate\").std()[[\"AvgQDelay\", \"AvgDDelay\"]]\n",
    "print(avg1)"
   ]
  },
  {
   "cell_type": "code",
   "execution_count": 40,
   "metadata": {},
   "outputs": [
    {
     "name": "stdout",
     "output_type": "stream",
     "text": [
      "             AvgQDelay  AvgDDelay\n",
      "ArrivalRate                      \n",
      "0.005        22.050946  22.203982\n",
      "0.010        24.836680  25.138175\n",
      "0.015        28.307199  28.479806\n",
      "0.020        33.440559  33.645715\n"
     ]
    }
   ],
   "source": [
    "d1 = pd.read_csv('B50_N1_K1_Beta0.05_Lambda01_09.csv')\n",
    "avg1 = d1.groupby(\"ArrivalRate\").mean()[[\"AvgQDelay\", \"AvgDDelay\"]]\n",
    "std1 = d1.groupby(\"ArrivalRate\").std()[[\"AvgQDelay\", \"AvgDDelay\"]]\n",
    "print(avg1)"
   ]
  },
  {
   "cell_type": "code",
   "execution_count": 38,
   "metadata": {},
   "outputs": [
    {
     "name": "stdout",
     "output_type": "stream",
     "text": [
      "             AvgQDelay  AvgDDelay\n",
      "ArrivalRate                      \n",
      "0.005        22.050946  22.203982\n",
      "0.010        24.836680  25.138175\n",
      "0.015        28.307199  28.479806\n",
      "0.020        33.440559  33.645715\n"
     ]
    }
   ],
   "source": [
    "d1 = pd.read_csv('B100_N1_K1_Beta0.05_Lambda01_09.csv')\n",
    "avg1 = d1.groupby(\"ArrivalRate\").mean()[[\"AvgQDelay\", \"AvgDDelay\"]]\n",
    "std1 = d1.groupby(\"ArrivalRate\").std()[[\"AvgQDelay\", \"AvgDDelay\"]]\n",
    "print(avg1)"
   ]
  },
  {
   "cell_type": "markdown",
   "metadata": {},
   "source": [
    "### Effect of B on delivery delay with $K \\geq 1$"
   ]
  },
  {
   "cell_type": "code",
   "execution_count": 43,
   "metadata": {},
   "outputs": [
    {
     "name": "stdout",
     "output_type": "stream",
     "text": [
      "              AvgQDelay  AvgDDelay\n",
      "ArrivalRate                       \n",
      "0.005         35.924953   7.709011\n",
      "0.010         46.596214   8.070035\n",
      "0.015         67.644971   8.541124\n",
      "0.020        127.641068   8.852058\n"
     ]
    }
   ],
   "source": [
    "d1 = pd.read_csv('B1_N10_K10_Beta0.05_Lambda01_09.csv')\n",
    "avg1 = d1.groupby(\"ArrivalRate\").mean()[[\"AvgQDelay\", \"AvgDDelay\"]]\n",
    "std1 = d1.groupby(\"ArrivalRate\").std()[[\"AvgQDelay\", \"AvgDDelay\"]]\n",
    "print(avg1)"
   ]
  },
  {
   "cell_type": "code",
   "execution_count": 44,
   "metadata": {},
   "outputs": [
    {
     "name": "stdout",
     "output_type": "stream",
     "text": [
      "             AvgQDelay  AvgDDelay\n",
      "ArrivalRate                      \n",
      "0.005        31.758703   8.315190\n",
      "0.010        36.169726   9.203681\n",
      "0.015        43.359090  10.237332\n",
      "0.020        55.274171  11.291673\n"
     ]
    }
   ],
   "source": [
    "d1 = pd.read_csv('B2_N10_K10_Beta0.05_Lambda01_09.csv')\n",
    "avg1 = d1.groupby(\"ArrivalRate\").mean()[[\"AvgQDelay\", \"AvgDDelay\"]]\n",
    "std1 = d1.groupby(\"ArrivalRate\").std()[[\"AvgQDelay\", \"AvgDDelay\"]]\n",
    "print(avg1)"
   ]
  },
  {
   "cell_type": "code",
   "execution_count": 45,
   "metadata": {},
   "outputs": [
    {
     "name": "stdout",
     "output_type": "stream",
     "text": [
      "             AvgQDelay  AvgDDelay\n",
      "ArrivalRate                      \n",
      "0.005        31.694086   8.336839\n",
      "0.010        34.611096   9.320087\n",
      "0.015        38.229366  10.692557\n",
      "0.020        43.749909  12.424508\n"
     ]
    }
   ],
   "source": [
    "d1 = pd.read_csv('B5_N10_K10_Beta0.05_Lambda01_09.csv')\n",
    "avg1 = d1.groupby(\"ArrivalRate\").mean()[[\"AvgQDelay\", \"AvgDDelay\"]]\n",
    "std1 = d1.groupby(\"ArrivalRate\").std()[[\"AvgQDelay\", \"AvgDDelay\"]]\n",
    "print(avg1)"
   ]
  },
  {
   "cell_type": "code",
   "execution_count": 46,
   "metadata": {},
   "outputs": [
    {
     "name": "stdout",
     "output_type": "stream",
     "text": [
      "             AvgQDelay  AvgDDelay\n",
      "ArrivalRate                      \n",
      "0.005        31.824398   8.359038\n",
      "0.010        34.911201   9.371934\n",
      "0.015        37.800604  10.516621\n",
      "0.020        42.739825  12.236494\n"
     ]
    }
   ],
   "source": [
    "d1 = pd.read_csv('B10_N10_K10_Beta0.05_Lambda01_09.csv')\n",
    "avg1 = d1.groupby(\"ArrivalRate\").mean()[[\"AvgQDelay\", \"AvgDDelay\"]]\n",
    "std1 = d1.groupby(\"ArrivalRate\").std()[[\"AvgQDelay\", \"AvgDDelay\"]]\n",
    "print(avg1)"
   ]
  },
  {
   "cell_type": "markdown",
   "metadata": {},
   "source": [
    "### Another example with $K \\geq 1$"
   ]
  },
  {
   "cell_type": "code",
   "execution_count": 47,
   "metadata": {},
   "outputs": [
    {
     "name": "stdout",
     "output_type": "stream",
     "text": [
      "             AvgQDelay  AvgDDelay\n",
      "ArrivalRate                      \n",
      "0.4           5.461527   2.754214\n"
     ]
    }
   ],
   "source": [
    "d1 = pd.read_csv('B1_N50_K5_Beta0.1_Lambda0.4.csv')\n",
    "avg1 = d1.groupby(\"ArrivalRate\").mean()[[\"AvgQDelay\", \"AvgDDelay\"]]\n",
    "std1 = d1.groupby(\"ArrivalRate\").std()[[\"AvgQDelay\", \"AvgDDelay\"]]\n",
    "print(avg1)"
   ]
  },
  {
   "cell_type": "code",
   "execution_count": 48,
   "metadata": {},
   "outputs": [
    {
     "name": "stdout",
     "output_type": "stream",
     "text": [
      "             AvgQDelay  AvgDDelay\n",
      "ArrivalRate                      \n",
      "0.4           1.967671    3.01152\n"
     ]
    }
   ],
   "source": [
    "d1 = pd.read_csv('B2_N50_K5_Beta0.1_Lambda0.4.csv')\n",
    "avg1 = d1.groupby(\"ArrivalRate\").mean()[[\"AvgQDelay\", \"AvgDDelay\"]]\n",
    "std1 = d1.groupby(\"ArrivalRate\").std()[[\"AvgQDelay\", \"AvgDDelay\"]]\n",
    "print(avg1)"
   ]
  },
  {
   "cell_type": "code",
   "execution_count": null,
   "metadata": {},
   "outputs": [],
   "source": []
  }
 ],
 "metadata": {
  "kernelspec": {
   "display_name": "Python 3",
   "language": "python",
   "name": "python3"
  },
  "language_info": {
   "codemirror_mode": {
    "name": "ipython",
    "version": 3
   },
   "file_extension": ".py",
   "mimetype": "text/x-python",
   "name": "python",
   "nbconvert_exporter": "python",
   "pygments_lexer": "ipython3",
   "version": "3.7.6"
  }
 },
 "nbformat": 4,
 "nbformat_minor": 4
}
