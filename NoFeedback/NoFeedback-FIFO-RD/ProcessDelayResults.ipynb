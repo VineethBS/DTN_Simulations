{
 "cells": [
  {
   "cell_type": "code",
   "execution_count": 3,
   "metadata": {},
   "outputs": [],
   "source": [
    "import pandas as pd"
   ]
  },
  {
   "cell_type": "code",
   "execution_count": 4,
   "metadata": {},
   "outputs": [
    {
     "data": {
      "text/plain": [
       "'/home/vineeth/Dropbox/Projects/DTN-DelayAnalysis/Experiments/NoFeedback/NoFeedback-FIFO-RD'"
      ]
     },
     "execution_count": 4,
     "metadata": {},
     "output_type": "execute_result"
    }
   ],
   "source": [
    "pwd"
   ]
  },
  {
   "cell_type": "markdown",
   "metadata": {},
   "source": [
    "Data aggregation for $B = 1, N = 50, K = 5, \\beta = 0.1$"
   ]
  },
  {
   "cell_type": "code",
   "execution_count": 5,
   "metadata": {},
   "outputs": [],
   "source": [
    "d1 = pd.read_csv('B1_N50_K5_Beta0.1_Rho01_09.csv')\n",
    "avg1 = d1.groupby(\"ArrivalRate\").mean()[[\"AvgQDelay\", \"AvgDDelay\"]]\n",
    "std1 = d1.groupby(\"ArrivalRate\").std()[[\"AvgQDelay\", \"AvgDDelay\"]]\n",
    "d2 = pd.read_csv('B1_N50_K5_Beta0.1_Rho091_098.csv')\n",
    "avg2 = d2.groupby(\"ArrivalRate\").mean()[[\"AvgQDelay\", \"AvgDDelay\"]]\n",
    "std2 = d2.groupby(\"ArrivalRate\").std()[[\"AvgQDelay\", \"AvgDDelay\"]]\n",
    "pd.concat([avg1, avg2]).to_csv('Results_B1_N50_K5_Beta0.1_LambdaVar.csv')"
   ]
  },
  {
   "cell_type": "markdown",
   "metadata": {},
   "source": [
    "Data aggregation for $B = 5, N = 50, K = 5, \\beta = 0.1$"
   ]
  },
  {
   "cell_type": "code",
   "execution_count": 6,
   "metadata": {},
   "outputs": [],
   "source": [
    "d1 = pd.read_csv('B5_N50_K5_Beta0.1_Rho01_09.csv')\n",
    "avg1 = d1.groupby(\"ArrivalRate\").mean()[[\"AvgQDelay\", \"AvgDDelay\"]]\n",
    "std1 = d1.groupby(\"ArrivalRate\").std()[[\"AvgQDelay\", \"AvgDDelay\"]]\n",
    "d2 = pd.read_csv('B5_N50_K5_Beta0.1_Rho091_098.csv')\n",
    "avg2 = d2.groupby(\"ArrivalRate\").mean()[[\"AvgQDelay\", \"AvgDDelay\"]]\n",
    "std2 = d2.groupby(\"ArrivalRate\").std()[[\"AvgQDelay\", \"AvgDDelay\"]]\n",
    "pd.concat([avg1, avg2]).to_csv('Results_B5_N50_K5_Beta0.1_LambdaVar.csv')"
   ]
  },
  {
   "cell_type": "markdown",
   "metadata": {},
   "source": [
    "Data aggregation for $B = 10, N = 50, K = 5, \\beta = 0.1$"
   ]
  },
  {
   "cell_type": "code",
   "execution_count": 7,
   "metadata": {},
   "outputs": [],
   "source": [
    "d1 = pd.read_csv('B10_N50_K5_Beta0.1_Rho01_09.csv')\n",
    "avg1 = d1.groupby(\"ArrivalRate\").mean()[[\"AvgQDelay\", \"AvgDDelay\"]]\n",
    "std1 = d1.groupby(\"ArrivalRate\").std()[[\"AvgQDelay\", \"AvgDDelay\"]]\n",
    "d2 = pd.read_csv('B10_N50_K5_Beta0.1_Rho091_098.csv')\n",
    "avg2 = d2.groupby(\"ArrivalRate\").mean()[[\"AvgQDelay\", \"AvgDDelay\"]]\n",
    "std2 = d2.groupby(\"ArrivalRate\").std()[[\"AvgQDelay\", \"AvgDDelay\"]]\n",
    "pd.concat([avg1, avg2]).to_csv('Results_B10_N50_K5_Beta0.1_LambdaVar.csv')"
   ]
  },
  {
   "cell_type": "markdown",
   "metadata": {},
   "source": [
    "Data aggregation for $B = 100, N = 50, K = 5, \\beta = 0.1$"
   ]
  },
  {
   "cell_type": "code",
   "execution_count": 8,
   "metadata": {},
   "outputs": [],
   "source": [
    "d1 = pd.read_csv('B100_N50_K5_Beta0.1_Lambda01_09.csv')\n",
    "avg1 = d1.groupby(\"ArrivalRate\").mean()[[\"AvgQDelay\", \"AvgDDelay\"]]\n",
    "std1 = d1.groupby(\"ArrivalRate\").std()[[\"AvgQDelay\", \"AvgDDelay\"]]\n",
    "d2 = pd.read_csv('B100_N50_K5_Beta0.1_Lambda091_098.csv')\n",
    "avg2 = d2.groupby(\"ArrivalRate\").mean()[[\"AvgQDelay\", \"AvgDDelay\"]]\n",
    "std2 = d2.groupby(\"ArrivalRate\").std()[[\"AvgQDelay\", \"AvgDDelay\"]]\n",
    "pd.concat([avg1, avg2]).to_csv('Results_B100_N50_K5_Beta0.1_LambdaVar.csv')"
   ]
  },
  {
   "cell_type": "markdown",
   "metadata": {},
   "source": [
    "Data aggregation for $B = 500, N = 50, K = 5, \\beta = 0.1$"
   ]
  },
  {
   "cell_type": "code",
   "execution_count": 9,
   "metadata": {},
   "outputs": [],
   "source": [
    "d1 = pd.read_csv('B500_N50_K5_Beta0.1_Lambda01_09.csv')\n",
    "avg1 = d1.groupby(\"ArrivalRate\").mean()[[\"AvgQDelay\", \"AvgDDelay\"]]\n",
    "std1 = d1.groupby(\"ArrivalRate\").std()[[\"AvgQDelay\", \"AvgDDelay\"]]\n",
    "d2 = pd.read_csv('B500_N50_K5_Beta0.1_Lambda091_098.csv')\n",
    "avg2 = d2.groupby(\"ArrivalRate\").mean()[[\"AvgQDelay\", \"AvgDDelay\"]]\n",
    "std2 = d2.groupby(\"ArrivalRate\").std()[[\"AvgQDelay\", \"AvgDDelay\"]]\n",
    "pd.concat([avg1, avg2]).to_csv('Results_B500_N50_K5_Beta0.1_LambdaVar.csv')"
   ]
  },
  {
   "cell_type": "markdown",
   "metadata": {},
   "source": [
    "Data aggregation for $B=100, N = 50,100,\\dots,500, K = 5, \\beta = 0.1, \\lambda = 0.8$"
   ]
  },
  {
   "cell_type": "code",
   "execution_count": 10,
   "metadata": {},
   "outputs": [],
   "source": [
    "d = pd.read_csv('B100_N50_500_K5_Beta0.1_Lambda08.csv')\n",
    "d80 = d[d[\"ArrivalRate\"] == 0.80]\n",
    "d85 = d[d[\"ArrivalRate\"] == 0.85]\n",
    "avg1 = d80.groupby([\"NumRelays\"]).mean()[[\"AvgQDelay\", \"AvgDDelay\"]]\n",
    "avg2 = d85.groupby([\"NumRelays\"]).mean()[[\"AvgQDelay\", \"AvgDDelay\"]]\n",
    "avg1.to_csv(\"ResultsB100_N50_500_K5_Beta0.1_Lambda0.8.csv\")\n",
    "avg2.to_csv(\"ResultsB100_N50_500_K5_Beta0.1_Lambda0.85.csv\")"
   ]
  },
  {
   "cell_type": "markdown",
   "metadata": {},
   "source": [
    "Data aggregation for $B = 500$, $N = 50$ and $100$ as a function of $K = 5 \\cdots 30$, $\\beta = 0.5$ and $\\lambda = 0.7$"
   ]
  },
  {
   "cell_type": "code",
   "execution_count": 11,
   "metadata": {},
   "outputs": [],
   "source": [
    "d = pd.read_csv('B500_N50_100_K5_30_Beta0.5_Lambda07.csv')\n",
    "d50 = d[d[\"NumRelays\"] == 50]\n",
    "d100 = d[d[\"NumRelays\"] == 100]\n",
    "avg50 = d50.groupby([\"NumCopies\"]).mean()[[\"AvgQDelay\", \"AvgDDelay\"]]\n",
    "avg100 = d100.groupby([\"NumCopies\"]).mean()[[\"AvgQDelay\", \"AvgDDelay\"]]\n",
    "avg50.to_csv(\"ResultsB500_N50_K5_30_Beta0.5_Lambda07.csv\")\n",
    "avg100.to_csv(\"ResultsB500_N100_K5_30_Beta0.5_Lambda07.csv\")"
   ]
  },
  {
   "cell_type": "markdown",
   "metadata": {},
   "source": [
    "Data aggregation for $B = 1, N = 250, K = 20, \\beta = 0.5$"
   ]
  },
  {
   "cell_type": "code",
   "execution_count": 12,
   "metadata": {},
   "outputs": [],
   "source": [
    "d1 = pd.read_csv('B1_N250_K20_Beta0.5_Rho01_09.csv')\n",
    "avg1 = d1.groupby(\"ArrivalRate\").mean()[[\"AvgQDelay\", \"AvgDDelay\"]]\n",
    "std1 = d1.groupby(\"ArrivalRate\").std()[[\"AvgQDelay\", \"AvgDDelay\"]]\n",
    "d2 = pd.read_csv('B1_N250_K20_Beta0.5_Rho091_098.csv')\n",
    "avg2 = d2.groupby(\"ArrivalRate\").mean()[[\"AvgQDelay\", \"AvgDDelay\"]]\n",
    "std2 = d2.groupby(\"ArrivalRate\").std()[[\"AvgQDelay\", \"AvgDDelay\"]]\n",
    "pd.concat([avg1, avg2]).to_csv('Results_B1_N250_K20_Beta0.5_LambdaVar.csv')"
   ]
  },
  {
   "cell_type": "markdown",
   "metadata": {},
   "source": [
    "Data aggregation for $B = 5, N = 250, K = 20, \\beta = 0.5$"
   ]
  },
  {
   "cell_type": "code",
   "execution_count": 13,
   "metadata": {},
   "outputs": [],
   "source": [
    "d1 = pd.read_csv('B5_N250_K20_Beta0.5_Rho01_09.csv')\n",
    "avg1 = d1.groupby(\"ArrivalRate\").mean()[[\"AvgQDelay\", \"AvgDDelay\"]]\n",
    "std1 = d1.groupby(\"ArrivalRate\").std()[[\"AvgQDelay\", \"AvgDDelay\"]]\n",
    "d2 = pd.read_csv('B5_N250_K20_Beta0.5_Rho091_098.csv')\n",
    "avg2 = d2.groupby(\"ArrivalRate\").mean()[[\"AvgQDelay\", \"AvgDDelay\"]]\n",
    "std2 = d2.groupby(\"ArrivalRate\").std()[[\"AvgQDelay\", \"AvgDDelay\"]]\n",
    "pd.concat([avg1, avg2]).to_csv('Results_B5_N250_K20_Beta0.5_LambdaVar.csv')"
   ]
  },
  {
   "cell_type": "markdown",
   "metadata": {},
   "source": [
    "Data aggregation for $B = 10, N = 250, K = 20, \\beta = 0.5$"
   ]
  },
  {
   "cell_type": "code",
   "execution_count": 14,
   "metadata": {},
   "outputs": [],
   "source": [
    "d1 = pd.read_csv('B10_N250_K20_Beta0.5_Rho01_09.csv')\n",
    "avg1 = d1.groupby(\"ArrivalRate\").mean()[[\"AvgQDelay\", \"AvgDDelay\"]]\n",
    "std1 = d1.groupby(\"ArrivalRate\").std()[[\"AvgQDelay\", \"AvgDDelay\"]]\n",
    "d2 = pd.read_csv('B10_N250_K20_Beta0.5_Rho091_098.csv')\n",
    "avg2 = d2.groupby(\"ArrivalRate\").mean()[[\"AvgQDelay\", \"AvgDDelay\"]]\n",
    "std2 = d2.groupby(\"ArrivalRate\").std()[[\"AvgQDelay\", \"AvgDDelay\"]]\n",
    "pd.concat([avg1, avg2]).to_csv('Results_B10_N250_K20_Beta0.5_LambdaVar.csv')"
   ]
  },
  {
   "cell_type": "markdown",
   "metadata": {},
   "source": [
    "Data aggregation for $B = 100, N = 250, K = 20, \\beta = 0.5$"
   ]
  },
  {
   "cell_type": "code",
   "execution_count": 15,
   "metadata": {},
   "outputs": [],
   "source": [
    "d1 = pd.read_csv('B100_N250_K20_Beta0.5_Lambda1_5.csv')\n",
    "avg1 = d1.groupby(\"ArrivalRate\").mean()[[\"AvgQDelay\", \"AvgDDelay\"]]\n",
    "std1 = d1.groupby(\"ArrivalRate\").std()[[\"AvgQDelay\", \"AvgDDelay\"]]\n",
    "d2 = pd.read_csv('B100_N250_K20_Beta0.5_Lambda51_6.csv')\n",
    "avg2 = d2.groupby(\"ArrivalRate\").mean()[[\"AvgQDelay\", \"AvgDDelay\"]]\n",
    "std2 = d2.groupby(\"ArrivalRate\").std()[[\"AvgQDelay\", \"AvgDDelay\"]]\n",
    "pd.concat([avg1, avg2]).to_csv(\"Results_B100_N250_K20_Beta0.5_LambdaVar.csv\")"
   ]
  },
  {
   "cell_type": "markdown",
   "metadata": {},
   "source": [
    "Data aggregation for $B = 500, N = 250, K = 20, \\beta = 0.5$"
   ]
  },
  {
   "cell_type": "code",
   "execution_count": 16,
   "metadata": {},
   "outputs": [],
   "source": [
    "d1 = pd.read_csv('B500_N250_K20_Beta0.5_Lambda1_5.csv')\n",
    "avg1 = d1.groupby(\"ArrivalRate\").mean()[[\"AvgQDelay\", \"AvgDDelay\"]]\n",
    "std1 = d1.groupby(\"ArrivalRate\").std()[[\"AvgQDelay\", \"AvgDDelay\"]]\n",
    "d2 = pd.read_csv('B500_N250_K20_Beta0.5_Lambda51_6.csv')\n",
    "avg2 = d2.groupby(\"ArrivalRate\").mean()[[\"AvgQDelay\", \"AvgDDelay\"]]\n",
    "std2 = d2.groupby(\"ArrivalRate\").std()[[\"AvgQDelay\", \"AvgDDelay\"]]\n",
    "pd.concat([avg1, avg2]).to_csv(\"Results_B500_N250_K20_Beta0.5_LambdaVar.csv\")"
   ]
  },
  {
   "cell_type": "code",
   "execution_count": null,
   "metadata": {},
   "outputs": [],
   "source": []
  }
 ],
 "metadata": {
  "kernelspec": {
   "display_name": "Python 3",
   "language": "python",
   "name": "python3"
  },
  "language_info": {
   "codemirror_mode": {
    "name": "ipython",
    "version": 3
   },
   "file_extension": ".py",
   "mimetype": "text/x-python",
   "name": "python",
   "nbconvert_exporter": "python",
   "pygments_lexer": "ipython3",
   "version": "3.7.4"
  }
 },
 "nbformat": 4,
 "nbformat_minor": 2
}
