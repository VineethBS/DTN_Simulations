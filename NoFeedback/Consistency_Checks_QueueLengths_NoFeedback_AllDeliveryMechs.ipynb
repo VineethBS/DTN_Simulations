{
 "cells": [
  {
   "cell_type": "code",
   "execution_count": 2,
   "metadata": {},
   "outputs": [],
   "source": [
    "import pandas as pd"
   ]
  },
  {
   "cell_type": "markdown",
   "metadata": {},
   "source": [
    "We need to check for consistency in the results that we have obtained for the different delivery mechanisms. For the case of no-feedback, one would expect that the delivery mechanism would not change the way in which the queueing delay behaves"
   ]
  },
  {
   "cell_type": "code",
   "execution_count": 3,
   "metadata": {},
   "outputs": [],
   "source": [
    "cases = [\"NoFeedback-FIFO-RD/\",\"NoFeedback-Random-RD/\",\"NoFeedback-LIFO-RD/\"]"
   ]
  },
  {
   "cell_type": "markdown",
   "metadata": {},
   "source": [
    "Cases with $B = 1$. We don't expect to see much differences here"
   ]
  },
  {
   "cell_type": "code",
   "execution_count": 8,
   "metadata": {
    "scrolled": true
   },
   "outputs": [],
   "source": [
    "filename = \"B1_N50_K5_Beta0.1_Rho01_09.csv\"\n",
    "\n",
    "d1 = pd.read_csv(cases[0] + filename)\n",
    "avg1 = d1.groupby(\"ArrivalRate\").mean()[[\"AvgQDelay\", \"AvgDDelay\"]]\n",
    "std1 = d1.groupby(\"ArrivalRate\").std()[[\"AvgQDelay\", \"AvgDDelay\"]]\n",
    "avg1.columns = [\"FIFO-Q\", \"FIFO-D\"]\n",
    "std1.columns = [\"STD-FIFO-Q\", \"STD-FIFO-D\"]\n",
    "\n",
    "d2 = pd.read_csv(cases[1] + filename)\n",
    "avg2 = d2.groupby(\"ArrivalRate\").mean()[[\"AvgQDelay\", \"AvgDDelay\"]]\n",
    "std2 = d2.groupby(\"ArrivalRate\").std()[[\"AvgQDelay\", \"AvgDDelay\"]]\n",
    "avg2.columns = [\"R-Q\", \"R-D\"]\n",
    "std2.columns = [\"STD-R-Q\", \"STD-R-D\"]\n",
    "\n",
    "d3 = pd.read_csv(cases[2] + filename)\n",
    "avg3 = d3.groupby(\"ArrivalRate\").mean()[[\"AvgQDelay\", \"AvgDDelay\"]]\n",
    "std3 = d3.groupby(\"ArrivalRate\").std()[[\"AvgQDelay\", \"AvgDDelay\"]]\n",
    "avg3.columns = [\"LIFO-Q\", \"LIFO-D\"]\n",
    "std3.columns = [\"STD-LIFO-Q\", \"STD-LIFO-D\"]\n",
    "\n",
    "pd.concat([avg1, std1, avg2, std2, avg3, std3],axis = 1).to_csv(\"Qcompare_RFIFOLIFO_B1_N50_K5_Beta0.1_Rho01_09\")"
   ]
  },
  {
   "cell_type": "code",
   "execution_count": 4,
   "metadata": {},
   "outputs": [
    {
     "name": "stdout",
     "output_type": "stream",
     "text": [
      "                FIFO-Q    FIFO-D  STD-FIFO-Q  STD-FIFO-D        R-Q       R-D  \\\n",
      "ArrivalRate                                                                     \n",
      "0.455        12.593032  2.850359    0.891021    0.014561  12.871577  2.859250   \n",
      "0.460        14.335941  2.863079    1.124261    0.013687  14.160228  2.860340   \n",
      "0.465        16.474044  2.878627    1.235948    0.010180  15.486980  2.873801   \n",
      "0.470        19.249949  2.882962    2.563913    0.014476  18.974185  2.874737   \n",
      "0.475        22.275881  2.886750    1.575643    0.009372  22.813296  2.886047   \n",
      "0.480        26.815990  2.899095    2.719115    0.014681  30.150185  2.892614   \n",
      "0.485        41.114768  2.894111   10.598841    0.016974  37.700695  2.889063   \n",
      "0.490        61.747692  2.881797   22.451166    0.012355  55.097756  2.884863   \n",
      "\n",
      "               STD-R-Q   STD-R-D     LIFO-Q    LIFO-D  STD-LIFO-Q  STD-LIFO-D  \n",
      "ArrivalRate                                                                    \n",
      "0.455         0.921985  0.016811  12.110199  2.853286    0.718028    0.008976  \n",
      "0.460         1.276067  0.015223  14.145286  2.868229    1.392258    0.014528  \n",
      "0.465         1.174994  0.008282  16.118839  2.872823    1.656240    0.008974  \n",
      "0.470         1.648711  0.015302  18.459840  2.871797    2.663390    0.013901  \n",
      "0.475         2.776270  0.012325  22.192983  2.880761    2.349682    0.008953  \n",
      "0.480         5.515568  0.011125  30.407956  2.896282    4.716552    0.007441  \n",
      "0.485         8.295429  0.010821  34.704406  2.892861    5.841782    0.012990  \n",
      "0.490        16.271011  0.015240  49.481380  2.893485   12.245673    0.011987  \n"
     ]
    }
   ],
   "source": [
    "filename = \"B1_N50_K5_Beta0.1_Rho091_098.csv\"\n",
    "\n",
    "d1 = pd.read_csv(cases[0] + filename)\n",
    "avg1 = d1.groupby(\"ArrivalRate\").mean()[[\"AvgQDelay\", \"AvgDDelay\"]]\n",
    "std1 = d1.groupby(\"ArrivalRate\").std()[[\"AvgQDelay\", \"AvgDDelay\"]]\n",
    "avg1.columns = [\"FIFO-Q\", \"FIFO-D\"]\n",
    "std1.columns = [\"STD-FIFO-Q\", \"STD-FIFO-D\"]\n",
    "\n",
    "d2 = pd.read_csv(cases[1] + filename)\n",
    "avg2 = d2.groupby(\"ArrivalRate\").mean()[[\"AvgQDelay\", \"AvgDDelay\"]]\n",
    "std2 = d2.groupby(\"ArrivalRate\").std()[[\"AvgQDelay\", \"AvgDDelay\"]]\n",
    "avg2.columns = [\"R-Q\", \"R-D\"]\n",
    "std2.columns = [\"STD-R-Q\", \"STD-R-D\"]\n",
    "\n",
    "d3 = pd.read_csv(cases[2] + filename)\n",
    "avg3 = d3.groupby(\"ArrivalRate\").mean()[[\"AvgQDelay\", \"AvgDDelay\"]]\n",
    "std3 = d3.groupby(\"ArrivalRate\").std()[[\"AvgQDelay\", \"AvgDDelay\"]]\n",
    "avg3.columns = [\"LIFO-Q\", \"LIFO-D\"]\n",
    "std3.columns = [\"STD-LIFO-Q\", \"STD-LIFO-D\"]\n",
    "\n",
    "print(pd.concat([avg1, std1, avg2, std2, avg3, std3],axis = 1))"
   ]
  },
  {
   "cell_type": "code",
   "execution_count": 9,
   "metadata": {},
   "outputs": [],
   "source": [
    "filename = \"B1_N250_K20_Beta0.5_Rho091_098.csv\"\n",
    "\n",
    "d1 = pd.read_csv(cases[0] + filename)\n",
    "avg1 = d1.groupby(\"ArrivalRate\").mean()[[\"AvgQDelay\", \"AvgDDelay\"]]\n",
    "std1 = d1.groupby(\"ArrivalRate\").std()[[\"AvgQDelay\", \"AvgDDelay\"]]\n",
    "avg1.columns = [\"FIFO-Q\", \"FIFO-D\"]\n",
    "std1.columns = [\"STD-FIFO-Q\", \"STD-FIFO-D\"]\n",
    "\n",
    "d2 = pd.read_csv(cases[1] + filename)\n",
    "avg2 = d2.groupby(\"ArrivalRate\").mean()[[\"AvgQDelay\", \"AvgDDelay\"]]\n",
    "std2 = d2.groupby(\"ArrivalRate\").std()[[\"AvgQDelay\", \"AvgDDelay\"]]\n",
    "avg2.columns = [\"R-Q\", \"R-D\"]\n",
    "std2.columns = [\"STD-R-Q\", \"STD-R-D\"]\n",
    "\n",
    "d3 = pd.read_csv(cases[2] + filename)\n",
    "avg3 = d3.groupby(\"ArrivalRate\").mean()[[\"AvgQDelay\", \"AvgDDelay\"]]\n",
    "std3 = d3.groupby(\"ArrivalRate\").std()[[\"AvgQDelay\", \"AvgDDelay\"]]\n",
    "avg3.columns = [\"LIFO-Q\", \"LIFO-D\"]\n",
    "std3.columns = [\"STD-LIFO-Q\", \"STD-LIFO-D\"]\n",
    "\n",
    "pd.concat([avg1, std1, avg2, std2, avg3, std3],axis = 1).to_csv(\"Qcompare_RFIFOLIFO_B1_N250_K20_Beta0.5_Rho091_098.csv\")"
   ]
  },
  {
   "cell_type": "markdown",
   "metadata": {},
   "source": [
    "Cases with $B > 1$."
   ]
  },
  {
   "cell_type": "code",
   "execution_count": 4,
   "metadata": {},
   "outputs": [],
   "source": [
    "filename = \"B10_N250_K20_Beta0.5_Rho01_09.csv\"\n",
    "\n",
    "d1 = pd.read_csv(cases[0] + filename)\n",
    "avg1 = d1.groupby(\"ArrivalRate\").mean()[[\"AvgQDelay\", \"AvgDDelay\"]]\n",
    "std1 = d1.groupby(\"ArrivalRate\").std()[[\"AvgQDelay\", \"AvgDDelay\"]]\n",
    "avg1.columns = [\"FIFO-Q\", \"FIFO-D\"]\n",
    "std1.columns = [\"STD-FIFO-Q\", \"STD-FIFO-D\"]\n",
    "\n",
    "d2 = pd.read_csv(cases[1] + filename)\n",
    "avg2 = d2.groupby(\"ArrivalRate\").mean()[[\"AvgQDelay\", \"AvgDDelay\"]]\n",
    "std2 = d2.groupby(\"ArrivalRate\").std()[[\"AvgQDelay\", \"AvgDDelay\"]]\n",
    "avg2.columns = [\"R-Q\", \"R-D\"]\n",
    "std2.columns = [\"STD-R-Q\", \"STD-R-D\"]\n",
    "\n",
    "d3 = pd.read_csv(cases[2] + filename)\n",
    "avg3 = d3.groupby(\"ArrivalRate\").mean()[[\"AvgQDelay\", \"AvgDDelay\"]]\n",
    "std3 = d3.groupby(\"ArrivalRate\").std()[[\"AvgQDelay\", \"AvgDDelay\"]]\n",
    "avg3.columns = [\"LIFO-Q\", \"LIFO-D\"]\n",
    "std3.columns = [\"STD-LIFO-Q\", \"STD-LIFO-D\"]\n",
    "\n",
    "db = pd.concat([avg1, std1, avg2, std2, avg3, std3],axis = 1)"
   ]
  },
  {
   "cell_type": "code",
   "execution_count": 5,
   "metadata": {},
   "outputs": [],
   "source": [
    "filename = \"B10_N250_K20_Beta0.5_Rho091_098.csv\"\n",
    "\n",
    "d1 = pd.read_csv(cases[0] + filename)\n",
    "avg1 = d1.groupby(\"ArrivalRate\").mean()[[\"AvgQDelay\", \"AvgDDelay\"]]\n",
    "std1 = d1.groupby(\"ArrivalRate\").std()[[\"AvgQDelay\", \"AvgDDelay\"]]\n",
    "avg1.columns = [\"FIFO-Q\", \"FIFO-D\"]\n",
    "std1.columns = [\"STD-FIFO-Q\", \"STD-FIFO-D\"]\n",
    "\n",
    "d2 = pd.read_csv(cases[1] + filename)\n",
    "avg2 = d2.groupby(\"ArrivalRate\").mean()[[\"AvgQDelay\", \"AvgDDelay\"]]\n",
    "std2 = d2.groupby(\"ArrivalRate\").std()[[\"AvgQDelay\", \"AvgDDelay\"]]\n",
    "avg2.columns = [\"R-Q\", \"R-D\"]\n",
    "std2.columns = [\"STD-R-Q\", \"STD-R-D\"]\n",
    "\n",
    "d3 = pd.read_csv(cases[2] + filename)\n",
    "avg3 = d3.groupby(\"ArrivalRate\").mean()[[\"AvgQDelay\", \"AvgDDelay\"]]\n",
    "std3 = d3.groupby(\"ArrivalRate\").std()[[\"AvgQDelay\", \"AvgDDelay\"]]\n",
    "avg3.columns = [\"LIFO-Q\", \"LIFO-D\"]\n",
    "std3.columns = [\"STD-LIFO-Q\", \"STD-LIFO-D\"]\n",
    "\n",
    "dc = pd.concat([avg1, std1, avg2, std2, avg3, std3],axis = 1)"
   ]
  },
  {
   "cell_type": "code",
   "execution_count": 6,
   "metadata": {},
   "outputs": [],
   "source": [
    "dd = pd.concat([db, dc], axis = 0)"
   ]
  },
  {
   "cell_type": "code",
   "execution_count": 8,
   "metadata": {},
   "outputs": [],
   "source": [
    "dd.to_csv(\"Qcompare_RFIFOLIFO_B10_N250_K20_Beta0.5_Rho01_098.csv\")"
   ]
  },
  {
   "cell_type": "markdown",
   "metadata": {},
   "source": [
    "Another case with $B > 1$"
   ]
  },
  {
   "cell_type": "code",
   "execution_count": 9,
   "metadata": {},
   "outputs": [],
   "source": [
    "filename = \"B500_N50_K5_Beta0.1_Lambda01_09.csv\"\n",
    "\n",
    "d1 = pd.read_csv(cases[0] + filename)\n",
    "avg1 = d1.groupby(\"ArrivalRate\").mean()[[\"AvgQDelay\", \"AvgDDelay\"]]\n",
    "std1 = d1.groupby(\"ArrivalRate\").std()[[\"AvgQDelay\", \"AvgDDelay\"]]\n",
    "avg1.columns = [\"FIFO-Q\", \"FIFO-D\"]\n",
    "std1.columns = [\"STD-FIFO-Q\", \"STD-FIFO-D\"]\n",
    "\n",
    "d2 = pd.read_csv(cases[1] + filename)\n",
    "avg2 = d2.groupby(\"ArrivalRate\").mean()[[\"AvgQDelay\", \"AvgDDelay\"]]\n",
    "std2 = d2.groupby(\"ArrivalRate\").std()[[\"AvgQDelay\", \"AvgDDelay\"]]\n",
    "avg2.columns = [\"R-Q\", \"R-D\"]\n",
    "std2.columns = [\"STD-R-Q\", \"STD-R-D\"]\n",
    "\n",
    "d3 = pd.read_csv(cases[2] + filename)\n",
    "avg3 = d3.groupby(\"ArrivalRate\").mean()[[\"AvgQDelay\", \"AvgDDelay\"]]\n",
    "std3 = d3.groupby(\"ArrivalRate\").std()[[\"AvgQDelay\", \"AvgDDelay\"]]\n",
    "avg3.columns = [\"LIFO-Q\", \"LIFO-D\"]\n",
    "std3.columns = [\"STD-LIFO-Q\", \"STD-LIFO-D\"]\n",
    "\n",
    "db = pd.concat([avg1, std1, avg2, std2, avg3, std3],axis = 1)"
   ]
  },
  {
   "cell_type": "code",
   "execution_count": 10,
   "metadata": {},
   "outputs": [],
   "source": [
    "filename = \"B500_N50_K5_Beta0.1_Lambda091_098.csv\"\n",
    "\n",
    "d1 = pd.read_csv(cases[0] + filename)\n",
    "avg1 = d1.groupby(\"ArrivalRate\").mean()[[\"AvgQDelay\", \"AvgDDelay\"]]\n",
    "std1 = d1.groupby(\"ArrivalRate\").std()[[\"AvgQDelay\", \"AvgDDelay\"]]\n",
    "avg1.columns = [\"FIFO-Q\", \"FIFO-D\"]\n",
    "std1.columns = [\"STD-FIFO-Q\", \"STD-FIFO-D\"]\n",
    "\n",
    "d2 = pd.read_csv(cases[1] + filename)\n",
    "avg2 = d2.groupby(\"ArrivalRate\").mean()[[\"AvgQDelay\", \"AvgDDelay\"]]\n",
    "std2 = d2.groupby(\"ArrivalRate\").std()[[\"AvgQDelay\", \"AvgDDelay\"]]\n",
    "avg2.columns = [\"R-Q\", \"R-D\"]\n",
    "std2.columns = [\"STD-R-Q\", \"STD-R-D\"]\n",
    "\n",
    "d3 = pd.read_csv(cases[2] + filename)\n",
    "avg3 = d3.groupby(\"ArrivalRate\").mean()[[\"AvgQDelay\", \"AvgDDelay\"]]\n",
    "std3 = d3.groupby(\"ArrivalRate\").std()[[\"AvgQDelay\", \"AvgDDelay\"]]\n",
    "avg3.columns = [\"LIFO-Q\", \"LIFO-D\"]\n",
    "std3.columns = [\"STD-LIFO-Q\", \"STD-LIFO-D\"]\n",
    "\n",
    "dc = pd.concat([avg1, std1, avg2, std2, avg3, std3],axis = 1)"
   ]
  },
  {
   "cell_type": "code",
   "execution_count": 11,
   "metadata": {},
   "outputs": [],
   "source": [
    "dd = pd.concat([db, dc], axis = 0)"
   ]
  },
  {
   "cell_type": "code",
   "execution_count": 13,
   "metadata": {},
   "outputs": [],
   "source": [
    "dd.to_csv(\"Qcompare_RFIFOLIFO_B500_N50_K5_Beta0.1_Lambda01_098.csv\")"
   ]
  }
 ],
 "metadata": {
  "kernelspec": {
   "display_name": "Python 3",
   "language": "python",
   "name": "python3"
  },
  "language_info": {
   "codemirror_mode": {
    "name": "ipython",
    "version": 3
   },
   "file_extension": ".py",
   "mimetype": "text/x-python",
   "name": "python",
   "nbconvert_exporter": "python",
   "pygments_lexer": "ipython3",
   "version": "3.7.4"
  }
 },
 "nbformat": 4,
 "nbformat_minor": 2
}
