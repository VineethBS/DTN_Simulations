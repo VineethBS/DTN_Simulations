{
 "cells": [
  {
   "cell_type": "code",
   "execution_count": 11,
   "metadata": {},
   "outputs": [],
   "source": [
    "import pandas as pd"
   ]
  },
  {
   "cell_type": "code",
   "execution_count": 16,
   "metadata": {},
   "outputs": [
    {
     "name": "stdout",
     "output_type": "stream",
     "text": [
      "             AvgQDelay  AvgDDelay\n",
      "ArrivalRate                      \n",
      "0.01         13.909822  10.045064\n",
      "             AvgQDelay  AvgDDelay\n",
      "ArrivalRate                      \n",
      "0.01          0.649141   0.288942\n"
     ]
    }
   ],
   "source": [
    "d1 = pd.read_csv('B1_N1_K1_Beta0.1_Lambda01_09.csv')\n",
    "avg1 = d1.groupby(\"ArrivalRate\").mean()[[\"AvgQDelay\", \"AvgDDelay\"]]\n",
    "std1 = d1.groupby(\"ArrivalRate\").std()[[\"AvgQDelay\", \"AvgDDelay\"]]\n",
    "print(avg1)\n",
    "print(std1)"
   ]
  },
  {
   "cell_type": "code",
   "execution_count": 17,
   "metadata": {},
   "outputs": [
    {
     "name": "stdout",
     "output_type": "stream",
     "text": [
      "             AvgQDelay  AvgDDelay\n",
      "ArrivalRate                      \n",
      "0.01          1.024035   9.942285\n",
      "             AvgQDelay  AvgDDelay\n",
      "ArrivalRate                      \n",
      "0.01          0.030485   0.283754\n"
     ]
    }
   ],
   "source": [
    "d1 = pd.read_csv('B1_N10_K1_Beta0.1_Lambda01_09.csv')\n",
    "avg1 = d1.groupby(\"ArrivalRate\").mean()[[\"AvgQDelay\", \"AvgDDelay\"]]\n",
    "std1 = d1.groupby(\"ArrivalRate\").std()[[\"AvgQDelay\", \"AvgDDelay\"]]\n",
    "print(avg1)\n",
    "print(std1)"
   ]
  },
  {
   "cell_type": "code",
   "execution_count": 19,
   "metadata": {},
   "outputs": [
    {
     "name": "stdout",
     "output_type": "stream",
     "text": [
      "             AvgQDelay  AvgDDelay\n",
      "ArrivalRate                      \n",
      "0.01          0.203755   9.879507\n",
      "             AvgQDelay  AvgDDelay\n",
      "ArrivalRate                      \n",
      "0.01          0.006406   0.376116\n"
     ]
    }
   ],
   "source": [
    "d1 = pd.read_csv('B1_N50_K1_Beta0.1_Lambda01_09.csv')\n",
    "avg1 = d1.groupby(\"ArrivalRate\").mean()[[\"AvgQDelay\", \"AvgDDelay\"]]\n",
    "std1 = d1.groupby(\"ArrivalRate\").std()[[\"AvgQDelay\", \"AvgDDelay\"]]\n",
    "print(avg1)\n",
    "print(std1)"
   ]
  },
  {
   "cell_type": "code",
   "execution_count": 20,
   "metadata": {},
   "outputs": [
    {
     "name": "stdout",
     "output_type": "stream",
     "text": [
      "             AvgQDelay  AvgDDelay\n",
      "ArrivalRate                      \n",
      "0.01          1.009341  10.119688\n",
      "             AvgQDelay  AvgDDelay\n",
      "ArrivalRate                      \n",
      "0.01          0.031428   0.344832\n"
     ]
    }
   ],
   "source": [
    "d1 = pd.read_csv('B10_N10_K1_Beta0.1_Lambda01_09.csv')\n",
    "avg1 = d1.groupby(\"ArrivalRate\").mean()[[\"AvgQDelay\", \"AvgDDelay\"]]\n",
    "std1 = d1.groupby(\"ArrivalRate\").std()[[\"AvgQDelay\", \"AvgDDelay\"]]\n",
    "print(avg1)\n",
    "print(std1)"
   ]
  },
  {
   "cell_type": "code",
   "execution_count": 22,
   "metadata": {},
   "outputs": [
    {
     "name": "stdout",
     "output_type": "stream",
     "text": [
      "             AvgQDelay  AvgDDelay\n",
      "ArrivalRate                      \n",
      "0.005        11.535457  10.040752\n",
      "0.010        13.703730  10.116262\n",
      "0.015        16.620568  10.176671\n",
      "0.020        20.014728  10.004454\n",
      "             AvgQDelay  AvgDDelay\n",
      "ArrivalRate                      \n",
      "0.005         0.349593   0.552248\n",
      "0.010         0.712509   0.297756\n",
      "0.015         1.015988   0.307761\n",
      "0.020         0.921864   0.187667\n"
     ]
    }
   ],
   "source": [
    "d1 = pd.read_csv('B1_N1_K2_Beta0.1_Lambda01_09.csv')\n",
    "avg1 = d1.groupby(\"ArrivalRate\").mean()[[\"AvgQDelay\", \"AvgDDelay\"]]\n",
    "std1 = d1.groupby(\"ArrivalRate\").std()[[\"AvgQDelay\", \"AvgDDelay\"]]\n",
    "print(avg1)\n",
    "print(std1)"
   ]
  },
  {
   "cell_type": "code",
   "execution_count": 7,
   "metadata": {},
   "outputs": [
    {
     "name": "stdout",
     "output_type": "stream",
     "text": [
      "             AvgQDelay  AvgDDelay\n",
      "ArrivalRate                      \n",
      "0.01         11.709586  10.958605\n"
     ]
    }
   ],
   "source": [
    "d1 = pd.read_csv('B2_N1_K1_Beta0.1_Lambda01_09.csv')\n",
    "avg1 = d1.groupby(\"ArrivalRate\").mean()[[\"AvgQDelay\", \"AvgDDelay\"]]\n",
    "std1 = d1.groupby(\"ArrivalRate\").std()[[\"AvgQDelay\", \"AvgDDelay\"]]\n",
    "print(avg1)"
   ]
  },
  {
   "cell_type": "code",
   "execution_count": 3,
   "metadata": {},
   "outputs": [
    {
     "name": "stdout",
     "output_type": "stream",
     "text": [
      "             AvgQDelay  AvgDDelay\n",
      "ArrivalRate                      \n",
      "0.01         11.027044  11.025297\n"
     ]
    }
   ],
   "source": [
    "d1 = pd.read_csv('B5_N1_K1_Beta0.1_Lambda01_09.csv')\n",
    "avg1 = d1.groupby(\"ArrivalRate\").mean()[[\"AvgQDelay\", \"AvgDDelay\"]]\n",
    "std1 = d1.groupby(\"ArrivalRate\").std()[[\"AvgQDelay\", \"AvgDDelay\"]]\n",
    "print(avg1)"
   ]
  },
  {
   "cell_type": "code",
   "execution_count": 12,
   "metadata": {},
   "outputs": [
    {
     "name": "stdout",
     "output_type": "stream",
     "text": [
      "             AvgQDelay  AvgDDelay\n",
      "ArrivalRate                      \n",
      "0.01         11.294761  11.117415\n"
     ]
    }
   ],
   "source": [
    "d1 = pd.read_csv('B10_N1_K1_Beta0.1_Lambda01_09.csv')\n",
    "avg1 = d1.groupby(\"ArrivalRate\").mean()[[\"AvgQDelay\", \"AvgDDelay\"]]\n",
    "std1 = d1.groupby(\"ArrivalRate\").std()[[\"AvgQDelay\", \"AvgDDelay\"]]\n",
    "print(avg1)"
   ]
  },
  {
   "cell_type": "code",
   "execution_count": 13,
   "metadata": {},
   "outputs": [
    {
     "name": "stdout",
     "output_type": "stream",
     "text": [
      "             AvgQDelay  AvgDDelay\n",
      "ArrivalRate                      \n",
      "0.01         11.294761  11.117415\n"
     ]
    }
   ],
   "source": [
    "d1 = pd.read_csv('B50_N1_K1_Beta0.1_Lambda01_09.csv')\n",
    "avg1 = d1.groupby(\"ArrivalRate\").mean()[[\"AvgQDelay\", \"AvgDDelay\"]]\n",
    "std1 = d1.groupby(\"ArrivalRate\").std()[[\"AvgQDelay\", \"AvgDDelay\"]]\n",
    "print(avg1)"
   ]
  },
  {
   "cell_type": "code",
   "execution_count": 5,
   "metadata": {},
   "outputs": [
    {
     "name": "stdout",
     "output_type": "stream",
     "text": [
      "             AvgQDelay  AvgDDelay\n",
      "ArrivalRate                      \n",
      "0.01         11.150633  11.283325\n"
     ]
    }
   ],
   "source": [
    "d1 = pd.read_csv('B100_N1_K1_Beta0.1_Lambda01_09.csv')\n",
    "avg1 = d1.groupby(\"ArrivalRate\").mean()[[\"AvgQDelay\", \"AvgDDelay\"]]\n",
    "std1 = d1.groupby(\"ArrivalRate\").std()[[\"AvgQDelay\", \"AvgDDelay\"]]\n",
    "print(avg1)"
   ]
  },
  {
   "cell_type": "code",
   "execution_count": null,
   "metadata": {},
   "outputs": [],
   "source": []
  }
 ],
 "metadata": {
  "kernelspec": {
   "display_name": "Python 3",
   "language": "python",
   "name": "python3"
  },
  "language_info": {
   "codemirror_mode": {
    "name": "ipython",
    "version": 3
   },
   "file_extension": ".py",
   "mimetype": "text/x-python",
   "name": "python",
   "nbconvert_exporter": "python",
   "pygments_lexer": "ipython3",
   "version": "3.7.6"
  }
 },
 "nbformat": 4,
 "nbformat_minor": 4
}
