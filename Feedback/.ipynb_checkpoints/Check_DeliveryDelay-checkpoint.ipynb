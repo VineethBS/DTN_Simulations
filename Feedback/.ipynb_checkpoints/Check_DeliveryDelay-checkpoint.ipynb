{
 "cells": [
  {
   "cell_type": "code",
   "execution_count": 1,
   "metadata": {},
   "outputs": [],
   "source": [
    "import pandas as pd"
   ]
  },
  {
   "cell_type": "code",
   "execution_count": 4,
   "metadata": {},
   "outputs": [
    {
     "name": "stdout",
     "output_type": "stream",
     "text": [
      "             AvgQDelay  AvgDDelay\n",
      "ArrivalRate                      \n",
      "0.01         13.911413  10.063735\n"
     ]
    }
   ],
   "source": [
    "d1 = pd.read_csv('B1_N1_K1_Beta0.1_Lambda01_09.csv')\n",
    "avg1 = d1.groupby(\"ArrivalRate\").mean()[[\"AvgQDelay\", \"AvgDDelay\"]]\n",
    "std1 = d1.groupby(\"ArrivalRate\").std()[[\"AvgQDelay\", \"AvgDDelay\"]]\n",
    "print(avg1)"
   ]
  },
  {
   "cell_type": "code",
   "execution_count": 7,
   "metadata": {},
   "outputs": [
    {
     "name": "stdout",
     "output_type": "stream",
     "text": [
      "             AvgQDelay  AvgDDelay\n",
      "ArrivalRate                      \n",
      "0.01         11.709586  10.958605\n"
     ]
    }
   ],
   "source": [
    "d1 = pd.read_csv('B2_N1_K1_Beta0.1_Lambda01_09.csv')\n",
    "avg1 = d1.groupby(\"ArrivalRate\").mean()[[\"AvgQDelay\", \"AvgDDelay\"]]\n",
    "std1 = d1.groupby(\"ArrivalRate\").std()[[\"AvgQDelay\", \"AvgDDelay\"]]\n",
    "print(avg1)"
   ]
  },
  {
   "cell_type": "code",
   "execution_count": 3,
   "metadata": {},
   "outputs": [
    {
     "name": "stdout",
     "output_type": "stream",
     "text": [
      "             AvgQDelay  AvgDDelay\n",
      "ArrivalRate                      \n",
      "0.01         11.027044  11.025297\n"
     ]
    }
   ],
   "source": [
    "d1 = pd.read_csv('B5_N1_K1_Beta0.1_Lambda01_09.csv')\n",
    "avg1 = d1.groupby(\"ArrivalRate\").mean()[[\"AvgQDelay\", \"AvgDDelay\"]]\n",
    "std1 = d1.groupby(\"ArrivalRate\").std()[[\"AvgQDelay\", \"AvgDDelay\"]]\n",
    "print(avg1)"
   ]
  },
  {
   "cell_type": "code",
   "execution_count": 12,
   "metadata": {},
   "outputs": [
    {
     "name": "stdout",
     "output_type": "stream",
     "text": [
      "             AvgQDelay  AvgDDelay\n",
      "ArrivalRate                      \n",
      "0.01         11.294761  11.117415\n"
     ]
    }
   ],
   "source": [
    "d1 = pd.read_csv('B10_N1_K1_Beta0.1_Lambda01_09.csv')\n",
    "avg1 = d1.groupby(\"ArrivalRate\").mean()[[\"AvgQDelay\", \"AvgDDelay\"]]\n",
    "std1 = d1.groupby(\"ArrivalRate\").std()[[\"AvgQDelay\", \"AvgDDelay\"]]\n",
    "print(avg1)"
   ]
  },
  {
   "cell_type": "code",
   "execution_count": 13,
   "metadata": {},
   "outputs": [
    {
     "name": "stdout",
     "output_type": "stream",
     "text": [
      "             AvgQDelay  AvgDDelay\n",
      "ArrivalRate                      \n",
      "0.01         11.294761  11.117415\n"
     ]
    }
   ],
   "source": [
    "d1 = pd.read_csv('B50_N1_K1_Beta0.1_Lambda01_09.csv')\n",
    "avg1 = d1.groupby(\"ArrivalRate\").mean()[[\"AvgQDelay\", \"AvgDDelay\"]]\n",
    "std1 = d1.groupby(\"ArrivalRate\").std()[[\"AvgQDelay\", \"AvgDDelay\"]]\n",
    "print(avg1)"
   ]
  },
  {
   "cell_type": "code",
   "execution_count": 3,
   "metadata": {},
   "outputs": [
    {
     "name": "stdout",
     "output_type": "stream",
     "text": [
      "             AvgQDelay  AvgDDelay\n",
      "ArrivalRate                      \n",
      "0.01         11.150633  10.118915\n"
     ]
    }
   ],
   "source": [
    "d1 = pd.read_csv('B100_N1_K1_Beta0.1_Lambda01_09.csv')\n",
    "avg1 = d1.groupby(\"ArrivalRate\").mean()[[\"AvgQDelay\", \"AvgDDelay\"]]\n",
    "std1 = d1.groupby(\"ArrivalRate\").std()[[\"AvgQDelay\", \"AvgDDelay\"]]\n",
    "print(avg1)"
   ]
  },
  {
   "cell_type": "code",
   "execution_count": null,
   "metadata": {},
   "outputs": [],
   "source": []
  }
 ],
 "metadata": {
  "kernelspec": {
   "display_name": "Python 3",
   "language": "python",
   "name": "python3"
  },
  "language_info": {
   "codemirror_mode": {
    "name": "ipython",
    "version": 3
   },
   "file_extension": ".py",
   "mimetype": "text/x-python",
   "name": "python",
   "nbconvert_exporter": "python",
   "pygments_lexer": "ipython3",
   "version": "3.7.6"
  }
 },
 "nbformat": 4,
 "nbformat_minor": 4
}
