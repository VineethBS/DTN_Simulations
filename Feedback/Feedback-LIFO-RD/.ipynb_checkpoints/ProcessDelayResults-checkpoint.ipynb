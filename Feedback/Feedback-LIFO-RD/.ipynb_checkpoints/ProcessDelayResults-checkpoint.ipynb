{
 "cells": [
  {
   "cell_type": "code",
   "execution_count": 1,
   "metadata": {},
   "outputs": [],
   "source": [
    "import pandas as pd"
   ]
  },
  {
   "cell_type": "markdown",
   "metadata": {},
   "source": [
    "Data aggregation for $B = 1, N = 50, K = 5, \\beta = 0.1$"
   ]
  },
  {
   "cell_type": "code",
   "execution_count": 7,
   "metadata": {
    "collapsed": true
   },
   "outputs": [],
   "source": [
    "d1 = pd.read_csv('B1_N50_K5_Beta0.1_Rho01_09.csv')\n",
    "avg1 = d1.groupby(\"ArrivalRate\").mean()[[\"AvgQDelay\", \"AvgDDelay\"]]\n",
    "std1 = d1.groupby(\"ArrivalRate\").std()[[\"AvgQDelay\", \"AvgDDelay\"]]\n",
    "d2 = pd.read_csv('B1_N50_K5_Beta0.1_Rho091_098.csv')\n",
    "avg2 = d2.groupby(\"ArrivalRate\").mean()[[\"AvgQDelay\", \"AvgDDelay\"]]\n",
    "std2 = d2.groupby(\"ArrivalRate\").std()[[\"AvgQDelay\", \"AvgDDelay\"]]\n",
    "pd.concat([avg1, avg2]).to_csv('Results_B1_N50_K5_Beta0.1_LambdaVar.csv')"
   ]
  },
  {
   "cell_type": "markdown",
   "metadata": {},
   "source": [
    "Data aggregation for $B = 5, N = 50, K = 5, \\beta = 0.1$"
   ]
  },
  {
   "cell_type": "code",
   "execution_count": 5,
   "metadata": {
    "collapsed": true
   },
   "outputs": [],
   "source": [
    "d1 = pd.read_csv('B5_N50_K5_Beta0.1_Rho01_09.csv')\n",
    "avg1 = d1.groupby(\"ArrivalRate\").mean()[[\"AvgQDelay\", \"AvgDDelay\"]]\n",
    "std1 = d1.groupby(\"ArrivalRate\").std()[[\"AvgQDelay\", \"AvgDDelay\"]]\n",
    "d2 = pd.read_csv('B5_N50_K5_Beta0.1_Rho091_098.csv')\n",
    "avg2 = d2.groupby(\"ArrivalRate\").mean()[[\"AvgQDelay\", \"AvgDDelay\"]]\n",
    "std2 = d2.groupby(\"ArrivalRate\").std()[[\"AvgQDelay\", \"AvgDDelay\"]]\n",
    "pd.concat([avg1, avg2]).to_csv('Results_B5_N50_K5_Beta0.1_LambdaVar.csv')"
   ]
  },
  {
   "cell_type": "markdown",
   "metadata": {},
   "source": [
    "Data aggregation for $B = 10, N = 50, K = 5, \\beta = 0.1$"
   ]
  },
  {
   "cell_type": "code",
   "execution_count": 12,
   "metadata": {
    "collapsed": true
   },
   "outputs": [],
   "source": [
    "d1 = pd.read_csv('B10_N50_K5_Beta0.1_Rho01_09.csv')\n",
    "avg1 = d1.groupby(\"ArrivalRate\").mean()[[\"AvgQDelay\", \"AvgDDelay\"]]\n",
    "std1 = d1.groupby(\"ArrivalRate\").std()[[\"AvgQDelay\", \"AvgDDelay\"]]\n",
    "d2 = pd.read_csv('B10_N50_K5_Beta0.1_Rho091_098.csv')\n",
    "avg2 = d2.groupby(\"ArrivalRate\").mean()[[\"AvgQDelay\", \"AvgDDelay\"]]\n",
    "std2 = d2.groupby(\"ArrivalRate\").std()[[\"AvgQDelay\", \"AvgDDelay\"]]\n",
    "pd.concat([avg1, avg2]).to_csv('Results_B10_N50_K5_Beta0.1_LambdaVar.csv')"
   ]
  },
  {
   "cell_type": "markdown",
   "metadata": {},
   "source": [
    "Data aggregation for $B = 100, N = 50, K = 5, \\beta = 0.1$"
   ]
  },
  {
   "cell_type": "code",
   "execution_count": null,
   "metadata": {},
   "outputs": [],
   "source": [
    "d1 = pd.read_csv('B100_N50_K5_Beta0.1_Lambda01_09.csv')\n",
    "avg1 = d1.groupby(\"ArrivalRate\").mean()[[\"AvgQDelay\", \"AvgDDelay\"]]\n",
    "std1 = d1.groupby(\"ArrivalRate\").std()[[\"AvgQDelay\", \"AvgDDelay\"]]\n",
    "d2 = pd.read_csv('B100_N50_K5_Beta0.1_Lambda091_098.csv')\n",
    "avg2 = d2.groupby(\"ArrivalRate\").mean()[[\"bbAvgQDelay\", \"AvgDDelay\"]]\n",
    "std2 = d2.groupby(\"ArrivalRate\").std()[[\"AvgQDelay\", \"AvgDDelay\"]]\n",
    "pd.concat([avg1, avg2]).to_csv('Results_B100_N50_K5_Beta0.1_LambdaVar.csv')"
   ]
  },
  {
   "cell_type": "code",
   "execution_count": 4,
   "metadata": {},
   "outputs": [
    {
     "data": {
      "text/html": [
       "<div>\n",
       "<style scoped>\n",
       "    .dataframe tbody tr th:only-of-type {\n",
       "        vertical-align: middle;\n",
       "    }\n",
       "\n",
       "    .dataframe tbody tr th {\n",
       "        vertical-align: top;\n",
       "    }\n",
       "\n",
       "    .dataframe thead th {\n",
       "        text-align: right;\n",
       "    }\n",
       "</style>\n",
       "<table border=\"1\" class=\"dataframe\">\n",
       "  <thead>\n",
       "    <tr style=\"text-align: right;\">\n",
       "      <th></th>\n",
       "      <th>AvgQDelay</th>\n",
       "      <th>AvgDDelay</th>\n",
       "    </tr>\n",
       "    <tr>\n",
       "      <th>ArrivalRate</th>\n",
       "      <th></th>\n",
       "      <th></th>\n",
       "    </tr>\n",
       "  </thead>\n",
       "  <tbody>\n",
       "    <tr>\n",
       "      <th>0.01</th>\n",
       "      <td>1.041669</td>\n",
       "      <td>2.386464</td>\n",
       "    </tr>\n",
       "    <tr>\n",
       "      <th>0.06</th>\n",
       "      <td>1.084552</td>\n",
       "      <td>2.409574</td>\n",
       "    </tr>\n",
       "  </tbody>\n",
       "</table>\n",
       "</div>"
      ],
      "text/plain": [
       "             AvgQDelay  AvgDDelay\n",
       "ArrivalRate                      \n",
       "0.01          1.041669   2.386464\n",
       "0.06          1.084552   2.409574"
      ]
     },
     "execution_count": 4,
     "metadata": {},
     "output_type": "execute_result"
    }
   ],
   "source": [
    "avg1"
   ]
  },
  {
   "cell_type": "markdown",
   "metadata": {},
   "source": [
    "Data aggregation for $B = 500, N = 50, K = 5, \\beta = 0.1$"
   ]
  },
  {
   "cell_type": "code",
   "execution_count": 23,
   "metadata": {},
   "outputs": [],
   "source": [
    "d1 = pd.read_csv('B500_N50_K5_Beta0.1_Lambda01_09.csv')\n",
    "avg1 = d1.groupby(\"ArrivalRate\").mean()[[\"AvgQDelay\", \"AvgDDelay\"]]\n",
    "std1 = d1.groupby(\"ArrivalRate\").std()[[\"AvgQDelay\", \"AvgDDelay\"]]\n",
    "d2 = pd.read_csv('B500_N50_K5_Beta0.1_Lambda091_098.csv')\n",
    "avg2 = d2.groupby(\"ArrivalRate\").mean()[[\"AvgQDelay\", \"AvgDDelay\"]]\n",
    "std2 = d2.groupby(\"ArrivalRate\").std()[[\"AvgQDelay\", \"AvgDDelay\"]]\n",
    "pd.concat([avg1, avg2]).to_csv('Results_B500_N50_K5_Beta0.1_LambdaVar.csv')"
   ]
  },
  {
   "cell_type": "markdown",
   "metadata": {},
   "source": [
    "Data aggregation for $B=100, N = 50,100,\\dots,500, K = 5, \\beta = 0.1, \\lambda = 0.8$"
   ]
  },
  {
   "cell_type": "code",
   "execution_count": 38,
   "metadata": {},
   "outputs": [],
   "source": [
    "d = pd.read_csv('B100_N50_500_K5_Beta0.1_Lambda08.csv')\n",
    "d80 = d[d[\"ArrivalRate\"] == 0.80]\n",
    "d85 = d[d[\"ArrivalRate\"] == 0.85]\n",
    "avg1 = d80.groupby([\"NumRelays\"]).mean()[[\"AvgQDelay\", \"AvgDDelay\"]]\n",
    "avg2 = d85.groupby([\"NumRelays\"]).mean()[[\"AvgQDelay\", \"AvgDDelay\"]]\n",
    "avg1.to_csv(\"ResultsB100_N50_500_K5_Beta0.1_Lambda0.8.csv\")\n",
    "avg2.to_csv(\"ResultsB100_N50_500_K5_Beta0.1_Lambda0.85.csv\")"
   ]
  },
  {
   "cell_type": "markdown",
   "metadata": {},
   "source": [
    "Data aggregation for $B = 500$, $N = 50$ and $100$ as a function of $K = 5 \\cdots 30$, $\\beta = 0.5$ and $\\lambda = 0.7$"
   ]
  },
  {
   "cell_type": "code",
   "execution_count": 48,
   "metadata": {},
   "outputs": [],
   "source": [
    "d = pd.read_csv('B500_N50_100_K5_30_Beta0.5_Lambda07.csv')\n",
    "d50 = d[d[\"NumRelays\"] == 50]\n",
    "d100 = d[d[\"NumRelays\"] == 100]\n",
    "avg50 = d50.groupby([\"NumCopies\"]).mean()[[\"AvgQDelay\", \"AvgDDelay\"]]\n",
    "avg100 = d100.groupby([\"NumCopies\"]).mean()[[\"AvgQDelay\", \"AvgDDelay\"]]\n",
    "avg50.to_csv(\"ResultsB500_N50_K5_30_Beta0.5_Lambda07.csv\")\n",
    "avg100.to_csv(\"ResultsB500_N100_K5_30_Beta0.5_Lambda07.csv\")"
   ]
  },
  {
   "cell_type": "markdown",
   "metadata": {},
   "source": [
    "Data aggregation for $B = 1, N = 250, K = 20, \\beta = 0.5$"
   ]
  },
  {
   "cell_type": "code",
   "execution_count": 10,
   "metadata": {
    "collapsed": true
   },
   "outputs": [],
   "source": [
    "d1 = pd.read_csv('B1_N250_K20_Beta0.5_Rho01_09.csv')\n",
    "avg1 = d1.groupby(\"ArrivalRate\").mean()[[\"AvgQDelay\", \"AvgDDelay\"]]\n",
    "std1 = d1.groupby(\"ArrivalRate\").std()[[\"AvgQDelay\", \"AvgDDelay\"]]\n",
    "d2 = pd.read_csv('B1_N250_K20_Beta0.5_Rho091_098.csv')\n",
    "avg2 = d2.groupby(\"ArrivalRate\").mean()[[\"AvgQDelay\", \"AvgDDelay\"]]\n",
    "std2 = d2.groupby(\"ArrivalRate\").std()[[\"AvgQDelay\", \"AvgDDelay\"]]\n",
    "pd.concat([avg1, avg2]).to_csv('Results_B1_N250_K20_Beta0.5_LambdaVar.csv')"
   ]
  },
  {
   "cell_type": "markdown",
   "metadata": {},
   "source": [
    "Data aggregation for $B = 5, N = 250, K = 20, \\beta = 0.5$"
   ]
  },
  {
   "cell_type": "code",
   "execution_count": 8,
   "metadata": {
    "collapsed": true
   },
   "outputs": [],
   "source": [
    "d1 = pd.read_csv('B5_N250_K20_Beta0.5_Rho01_09.csv')\n",
    "avg1 = d1.groupby(\"ArrivalRate\").mean()[[\"AvgQDelay\", \"AvgDDelay\"]]\n",
    "std1 = d1.groupby(\"ArrivalRate\").std()[[\"AvgQDelay\", \"AvgDDelay\"]]\n",
    "d2 = pd.read_csv('B5_N250_K20_Beta0.5_Rho091_098.csv')\n",
    "avg2 = d2.groupby(\"ArrivalRate\").mean()[[\"AvgQDelay\", \"AvgDDelay\"]]\n",
    "std2 = d2.groupby(\"ArrivalRate\").std()[[\"AvgQDelay\", \"AvgDDelay\"]]\n",
    "pd.concat([avg1, avg2]).to_csv('Results_B5_N250_K20_Beta0.5_LambdaVar.csv')"
   ]
  },
  {
   "cell_type": "markdown",
   "metadata": {},
   "source": [
    "Data aggregation for $B = 10, N = 250, K = 20, \\beta = 0.5$"
   ]
  },
  {
   "cell_type": "code",
   "execution_count": 9,
   "metadata": {
    "collapsed": true
   },
   "outputs": [],
   "source": [
    "d1 = pd.read_csv('B10_N250_K20_Beta0.5_Rho01_09.csv')\n",
    "avg1 = d1.groupby(\"ArrivalRate\").mean()[[\"AvgQDelay\", \"AvgDDelay\"]]\n",
    "std1 = d1.groupby(\"ArrivalRate\").std()[[\"AvgQDelay\", \"AvgDDelay\"]]\n",
    "d2 = pd.read_csv('B10_N250_K20_Beta0.5_Rho091_098.csv')\n",
    "avg2 = d2.groupby(\"ArrivalRate\").mean()[[\"AvgQDelay\", \"AvgDDelay\"]]\n",
    "std2 = d2.groupby(\"ArrivalRate\").std()[[\"AvgQDelay\", \"AvgDDelay\"]]\n",
    "pd.concat([avg1, avg2]).to_csv('Results_B10_N250_K20_Beta0.5_LambdaVar.csv')"
   ]
  },
  {
   "cell_type": "markdown",
   "metadata": {},
   "source": [
    "Data aggregation for $B = 100, N = 250, K = 20, \\beta = 0.5$"
   ]
  },
  {
   "cell_type": "code",
   "execution_count": 51,
   "metadata": {
    "collapsed": true
   },
   "outputs": [],
   "source": [
    "d1 = pd.read_csv('B100_N250_K20_Beta0.5_Lambda1_5.csv')\n",
    "avg1 = d1.groupby(\"ArrivalRate\").mean()[[\"AvgQDelay\", \"AvgDDelay\"]]\n",
    "std1 = d1.groupby(\"ArrivalRate\").std()[[\"AvgQDelay\", \"AvgDDelay\"]]\n",
    "d2 = pd.read_csv('B100_N250_K20_Beta0.5_Lambda51_6.csv')\n",
    "avg2 = d2.groupby(\"ArrivalRate\").mean()[[\"AvgQDelay\", \"AvgDDelay\"]]\n",
    "std2 = d2.groupby(\"ArrivalRate\").std()[[\"AvgQDelay\", \"AvgDDelay\"]]\n",
    "pd.concat([avg1, avg2]).to_csv(\"Results_B100_N250_K20_Beta0.5_LambdaVar.csv\")"
   ]
  },
  {
   "cell_type": "markdown",
   "metadata": {},
   "source": [
    "Data aggregation for $B = 500, N = 250, K = 20, \\beta = 0.5$"
   ]
  },
  {
   "cell_type": "code",
   "execution_count": 52,
   "metadata": {
    "collapsed": true
   },
   "outputs": [],
   "source": [
    "d1 = pd.read_csv('B500_N250_K20_Beta0.5_Lambda1_5.csv')\n",
    "avg1 = d1.groupby(\"ArrivalRate\").mean()[[\"AvgQDelay\", \"AvgDDelay\"]]\n",
    "std1 = d1.groupby(\"ArrivalRate\").std()[[\"AvgQDelay\", \"AvgDDelay\"]]\n",
    "d2 = pd.read_csv('B500_N250_K20_Beta0.5_Lambda51_6.csv')\n",
    "avg2 = d2.groupby(\"ArrivalRate\").mean()[[\"AvgQDelay\", \"AvgDDelay\"]]\n",
    "std2 = d2.groupby(\"ArrivalRate\").std()[[\"AvgQDelay\", \"AvgDDelay\"]]\n",
    "pd.concat([avg1, avg2]).to_csv(\"Results_B500_N250_K20_Beta0.5_LambdaVar.csv\")"
   ]
  }
 ],
 "metadata": {
  "kernelspec": {
   "display_name": "Python 3",
   "language": "python",
   "name": "python3"
  },
  "language_info": {
   "codemirror_mode": {
    "name": "ipython",
    "version": 3
   },
   "file_extension": ".py",
   "mimetype": "text/x-python",
   "name": "python",
   "nbconvert_exporter": "python",
   "pygments_lexer": "ipython3",
   "version": "3.7.4"
  }
 },
 "nbformat": 4,
 "nbformat_minor": 2
}
